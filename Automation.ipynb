{
  "cells": [
    {
      "cell_type": "markdown",
      "metadata": {
        "id": "view-in-github",
        "colab_type": "text"
      },
      "source": [
        "<a href=\"https://colab.research.google.com/github/aayushdebugging/GenerativeAI/blob/main/Automation.ipynb\" target=\"_parent\"><img src=\"https://colab.research.google.com/assets/colab-badge.svg\" alt=\"Open In Colab\"/></a>"
      ]
    },
    {
      "cell_type": "code",
      "execution_count": null,
      "metadata": {
        "colab": {
          "base_uri": "https://localhost:8080/"
        },
        "id": "v-4FZnwlM8z5",
        "outputId": "f3d10685-b20b-4d33-f2b2-41409a4edc9f"
      },
      "outputs": [
        {
          "output_type": "stream",
          "name": "stdout",
          "text": [
            "Requirement already satisfied: nltk in /usr/local/lib/python3.10/dist-packages (3.8.1)\n",
            "Requirement already satisfied: click in /usr/local/lib/python3.10/dist-packages (from nltk) (8.1.7)\n",
            "Requirement already satisfied: joblib in /usr/local/lib/python3.10/dist-packages (from nltk) (1.4.2)\n",
            "Requirement already satisfied: regex>=2021.8.3 in /usr/local/lib/python3.10/dist-packages (from nltk) (2024.5.15)\n",
            "Requirement already satisfied: tqdm in /usr/local/lib/python3.10/dist-packages (from nltk) (4.66.4)\n",
            "Requirement already satisfied: numpy in /usr/local/lib/python3.10/dist-packages (1.26.4)\n",
            "Requirement already satisfied: bs4 in /usr/local/lib/python3.10/dist-packages (0.0.2)\n",
            "Requirement already satisfied: beautifulsoup4 in /usr/local/lib/python3.10/dist-packages (from bs4) (4.12.3)\n",
            "Requirement already satisfied: soupsieve>1.2 in /usr/local/lib/python3.10/dist-packages (from beautifulsoup4->bs4) (2.5)\n"
          ]
        }
      ],
      "source": [
        "!pip install nltk\n",
        "!pip install numpy\n",
        "\n",
        "!pip install bs4"
      ]
    },
    {
      "cell_type": "code",
      "execution_count": null,
      "metadata": {
        "id": "3bcaavyYi3-x"
      },
      "outputs": [],
      "source": [
        "import nltk\n",
        "import numpy as np\n",
        "import random\n",
        "import string\n",
        "\n",
        "import bs4 as bs\n",
        "import urllib.request\n",
        "import re"
      ]
    },
    {
      "cell_type": "code",
      "source": [
        "link = urllib.request.urlopen('https://en.wikipedia.org/wiki/Machine_learning')\n",
        "article = link.read()\n",
        "\n",
        "data = bs.BeautifulSoup(article,'lxml')"
      ],
      "metadata": {
        "id": "NTkqGy0zj2Kx"
      },
      "execution_count": null,
      "outputs": []
    },
    {
      "cell_type": "code",
      "source": [
        "data_paragraph = data.find_all('p')"
      ],
      "metadata": {
        "id": "9NhUfjk8j5MR"
      },
      "execution_count": null,
      "outputs": []
    },
    {
      "cell_type": "code",
      "source": [
        "data_text = \" \"\n",
        "\n",
        "for paragraph in data_paragraph:\n",
        "    data_text += paragraph.text"
      ],
      "metadata": {
        "id": "xjrscMLcj7_2"
      },
      "execution_count": null,
      "outputs": []
    },
    {
      "cell_type": "code",
      "source": [
        "data_text = data_text.lower()"
      ],
      "metadata": {
        "id": "OYpIYj1Aj-Dp"
      },
      "execution_count": null,
      "outputs": []
    },
    {
      "cell_type": "code",
      "source": [
        "data_text = re.sub(r'\\[[0-9]*\\]',' ',data_text)\n",
        "data_text = re.sub(r'\\s+',' ',data_text)\n",
        "data_text"
      ],
      "metadata": {
        "colab": {
          "base_uri": "https://localhost:8080/",
          "height": 140
        },
        "id": "12PRY7AgkADW",
        "outputId": "063d6e93-7cbe-4b89-ba79-04c9ca70418b"
      },
      "execution_count": null,
      "outputs": [
        {
          "output_type": "execute_result",
          "data": {
            "text/plain": [
              "' machine learning (ml) is a field of study in artificial intelligence concerned with the development and study of statistical algorithms that can learn from data and generalize to unseen data and thus perform tasks without explicit instructions. recently, artificial neural networks have been able to surpass many previous approaches in performance. ml finds application in many fields, including natural language processing, computer vision, speech recognition, email filtering, agriculture, and medicine. when applied to business problems, it is known under the name predictive analytics. although not all machine learning is statistically based, computational statistics is an important source of the field\\'s methods. the mathematical foundations of ml are provided by mathematical optimization (mathematical programming) methods. data mining is a related (parallel) field of study, focusing on exploratory data analysis (eda) through unsupervised learning. from a theoretical viewpoint, probably approximately correct (pac) learning provides a framework for describing machine learning. the term machine learning was coined in 1959 by arthur samuel, an ibm employee and pioneer in the field of computer gaming and artificial intelligence. the synonym self-teaching computers was also used in this time period. although the earliest machine learning model was introduced in the 1950s when arthur samuel invented a program that calculated the winning chance in checkers for each side, the history of machine learning roots back to decades of human desire and effort to study human cognitive processes. in 1949, canadian psychologist donald hebb published the book the organization of behavior, in which he introduced a theoretical neural structure formed by certain interactions among nerve cells. hebb\\'s model of neurons interacting with one another set a groundwork for how ais and machine learning algorithms work under nodes, or artificial neurons used by computers to communicate data. other researchers who have studied human cognitive systems contributed to the modern machine learning technologies as well, including logician walter pitts and warren mcculloch, who proposed the early mathematical models of neural networks to come up with algorithms that mirror human thought processes. by the early 1960s an experimental \"learning machine\" with punched tape memory, called cybertron, had been developed by raytheon company to analyze sonar signals, electrocardiograms, and speech patterns using rudimentary reinforcement learning. it was repetitively \"trained\" by a human operator/teacher to recognize patterns and equipped with a \"goof\" button to cause it to reevaluate incorrect decisions. a representative book on research into machine learning during the 1960s was nilsson\\'s book on learning machines, dealing mostly with machine learning for pattern classification. interest related to pattern recognition continued into the 1970s, as described by duda and hart in 1973. in 1981 a report was given on using teaching strategies so that an artificial neural network learns to recognize 40 characters (26 letters, 10 digits, and 4 special symbols) from a computer terminal. tom m. mitchell provided a widely quoted, more formal definition of the algorithms studied in the machine learning field: \"a computer program is said to learn from experience e with respect to some class of tasks t and performance measure p if its performance at tasks in t, as measured by p, improves with experience e.\" this definition of the tasks in which machine learning is concerned offers a fundamentally operational definition rather than defining the field in cognitive terms. this follows alan turing\\'s proposal in his paper \"computing machinery and intelligence\", in which the question \"can machines think?\" is replaced with the question \"can machines do what we (as thinking entities) can do?\". modern-day machine learning has two objectives. one is to classify data based on models which have been developed; the other purpose is to make predictions for future outcomes based on these models. a hypothetical algorithm specific to classifying data may use computer vision of moles coupled with supervised learning in order to train it to classify the cancerous moles. a machine learning algorithm for stock trading may inform the trader of future potential predictions. as a scientific endeavor, machine learning grew out of the quest for artificial intelligence (ai). in the early days of ai as an academic discipline, some researchers were interested in having machines learn from data. they attempted to approach the problem with various symbolic methods, as well as what were then termed \"neural networks\"; these were mostly perceptrons and other models that were later found to be reinventions of the generalized linear models of statistics. probabilistic reasoning was also employed, especially in automated medical diagnosis. : 488 however, an increasing emphasis on the logical, knowledge-based approach caused a rift between ai and machine learning. probabilistic systems were plagued by theoretical and practical problems of data acquisition and representation. : 488 by 1980, expert systems had come to dominate ai, and statistics was out of favor. work on symbolic/knowledge-based learning did continue within ai, leading to inductive logic programming(ilp), but the more statistical line of research was now outside the field of ai proper, in pattern recognition and information retrieval. : 708–710, 755 neural networks research had been abandoned by ai and computer science around the same time. this line, too, was continued outside the ai/cs field, as \"connectionism\", by researchers from other disciplines including hopfield, rumelhart, and hinton. their main success came in the mid-1980s with the reinvention of backpropagation. : 25 machine learning (ml), reorganized and recognized as its own field, started to flourish in the 1990s. the field changed its goal from achieving artificial intelligence to tackling solvable problems of a practical nature. it shifted focus away from the symbolic approaches it had inherited from ai, and toward methods and models borrowed from statistics, fuzzy logic, and probability theory. there is a close connection between machine learning and compression. a system that predicts the posterior probabilities of a sequence given its entire history can be used for optimal data compression (by using arithmetic coding on the output distribution). conversely, an optimal compressor can be used for prediction (by finding the symbol that compresses best, given the previous history). this equivalence has been used as a justification for using data compression as a benchmark for \"general intelligence\". an alternative view can show compression algorithms implicitly map strings into implicit feature space vectors, and compression-based similarity measures compute similarity within these feature spaces. for each compressor c(.) we define an associated vector space ℵ, such that c(.) maps an input string x, corresponding to the vector norm ||~x||. an exhaustive examination of the feature spaces underlying all compression algorithms is precluded by space; instead, feature vectors chooses to examine three representative lossless compression methods, lzw, lz77, and ppm. according to aixi theory, a connection more directly explained in hutter prize, the best possible compression of x is the smallest possible software that generates x. for example, in that model, a zip file\\'s compressed size includes both the zip file and the unzipping software, since you can not unzip it without both, but there may be an even smaller combined form. examples of ai-powered audio/video compression software include nvidia maxine, aivc. examples of software that can perform ai-powered image compression include opencv, tensorflow, matlab\\'s image processing toolbox (ipt) and high-fidelity generative image compression. in unsupervised machine learning, k-means clustering can be utilized to compress data by grouping similar data points into clusters. this technique simplifies handling extensive datasets that lack predefined labels and finds widespread use in fields such as image compression. data compression aims to reduce the size of data files, enhancing storage efficiency and speeding up data transmission. k-means clustering, an unsupervised machine learning algorithm, is employed to partition a dataset into a specified number of clusters, k, each represented by the centroid of its points. this process condenses extensive datasets into a more compact set of representative points. particularly beneficial in image and signal processing, k-means clustering aids in data reduction by replacing groups of data points with their centroids, thereby preserving the core information of the original data while significantly decreasing the required storage space. machine learning and data mining often employ the same methods and overlap significantly, but while machine learning focuses on prediction, based on known properties learned from the training data, data mining focuses on the discovery of (previously) unknown properties in the data (this is the analysis step of knowledge discovery in databases). data mining uses many machine learning methods, but with different goals; on the other hand, machine learning also employs data mining methods as \"unsupervised learning\" or as a preprocessing step to improve learner accuracy. much of the confusion between these two research communities (which do often have separate conferences and separate journals, ecml pkdd being a major exception) comes from the basic assumptions they work with: in machine learning, performance is usually evaluated with respect to the ability to reproduce known knowledge, while in knowledge discovery and data mining (kdd) the key task is the discovery of previously unknown knowledge. evaluated with respect to known knowledge, an uninformed (unsupervised) method will easily be outperformed by other supervised methods, while in a typical kdd task, supervised methods cannot be used due to the unavailability of training data. machine learning also has intimate ties to optimization: many learning problems are formulated as minimization of some loss function on a training set of examples. loss functions express the discrepancy between the predictions of the model being trained and the actual problem instances (for example, in classification, one wants to assign a label to instances, and models are trained to correctly predict the preassigned labels of a set of examples). the difference between optimization and machine learning arises from the goal of generalization: while optimization algorithms can minimize the loss on a training set, machine learning is concerned with minimizing the loss on unseen samples. characterizing the generalization of various learning algorithms is an active topic of current research, especially for deep learning algorithms. machine learning and statistics are closely related fields in terms of methods, but distinct in their principal goal: statistics draws population inferences from a sample, while machine learning finds generalizable predictive patterns. according to michael i. jordan, the ideas of machine learning, from methodological principles to theoretical tools, have had a long pre-history in statistics. he also suggested the term data science as a placeholder to call the overall field. conventional statistical analyses require the a priori selection of a model most suitable for the study data set. in addition, only significant or theoretically relevant variables based on previous experience are included for analysis. in contrast, machine learning is not built on a pre-structured model; rather, the data shape the model by detecting underlying patterns. the more variables (input) used to train the model, the more accurate the ultimate model will be. leo breiman distinguished two statistical modeling paradigms: data model and algorithmic model, wherein \"algorithmic model\" means more or less the machine learning algorithms like random forest. some statisticians have adopted methods from machine learning, leading to a combined field that they call statistical learning. analytical and computational techniques derived from deep-rooted physics of disordered systems can be extended to large-scale problems, including machine learning, e.g., to analyze the weight space of deep neural networks. statistical physics is thus finding applications in the area of medical diagnostics. a core objective of a learner is to generalize from its experience. generalization in this context is the ability of a learning machine to perform accurately on new, unseen examples/tasks after having experienced a learning data set. the training examples come from some generally unknown probability distribution (considered representative of the space of occurrences) and the learner has to build a general model about this space that enables it to produce sufficiently accurate predictions in new cases. the computational analysis of machine learning algorithms and their performance is a branch of theoretical computer science known as computational learning theory via the probably approximately correct learning (pac) model. because training sets are finite and the future is uncertain, learning theory usually does not yield guarantees of the performance of algorithms. instead, probabilistic bounds on the performance are quite common. the bias–variance decomposition is one way to quantify generalization error. for the best performance in the context of generalization, the complexity of the hypothesis should match the complexity of the function underlying the data. if the hypothesis is less complex than the function, then the model has under fitted the data. if the complexity of the model is increased in response, then the training error decreases. but if the hypothesis is too complex, then the model is subject to overfitting and generalization will be poorer. in addition to performance bounds, learning theorists study the time complexity and feasibility of learning. in computational learning theory, a computation is considered feasible if it can be done in polynomial time. there are two kinds of time complexity results: positive results show that a certain class of functions can be learned in polynomial time. negative results show that certain classes cannot be learned in polynomial time. machine learning approaches are traditionally divided into three broad categories, which correspond to learning paradigms, depending on the nature of the \"signal\" or \"feedback\" available to the learning system: although each algorithm has advantages and limitations, no single algorithm works for all problems. supervised learning algorithms build a mathematical model of a set of data that contains both the inputs and the desired outputs. the data, known as training data, consists of a set of training examples. each training example has one or more inputs and the desired output, also known as a supervisory signal. in the mathematical model, each training example is represented by an array or vector, sometimes called a feature vector, and the training data is represented by a matrix. through iterative optimization of an objective function, supervised learning algorithms learn a function that can be used to predict the output associated with new inputs. an optimal function allows the algorithm to correctly determine the output for inputs that were not a part of the training data. an algorithm that improves the accuracy of its outputs or predictions over time is said to have learned to perform that task. types of supervised-learning algorithms include active learning, classification and regression. classification algorithms are used when the outputs are restricted to a limited set of values, and regression algorithms are used when the outputs may have any numerical value within a range. as an example, for a classification algorithm that filters emails, the input would be an incoming email, and the output would be the name of the folder in which to file the email. examples of regression would be predicting the height of a person, or the future temperature. similarity learning is an area of supervised machine learning closely related to regression and classification, but the goal is to learn from examples using a similarity function that measures how similar or related two objects are. it has applications in ranking, recommendation systems, visual identity tracking, face verification, and speaker verification. unsupervised learning algorithms find structures in data that has not been labeled, classified or categorized. instead of responding to feedback, unsupervised learning algorithms identify commonalities in the data and react based on the presence or absence of such commonalities in each new piece of data. central applications of unsupervised machine learning include clustering, dimensionality reduction, and density estimation. unsupervised learning algorithms also streamlined the process of identifying large indel based haplotypes of a gene of interest from pan-genome. cluster analysis is the assignment of a set of observations into subsets (called clusters) so that observations within the same cluster are similar according to one or more predesignated criteria, while observations drawn from different clusters are dissimilar. different clustering techniques make different assumptions on the structure of the data, often defined by some similarity metric and evaluated, for example, by internal compactness, or the similarity between members of the same cluster, and separation, the difference between clusters. other methods are based on estimated density and graph connectivity. a special type of unsupervised learning called, self-supervised learning involves training a model by generating the supervisory signal from the data itself. semi-supervised learning falls between unsupervised learning (without any labeled training data) and supervised learning (with completely labeled training data). some of the training examples are missing training labels, yet many machine-learning researchers have found that unlabeled data, when used in conjunction with a small amount of labeled data, can produce a considerable improvement in learning accuracy. in weakly supervised learning, the training labels are noisy, limited, or imprecise; however, these labels are often cheaper to obtain, resulting in larger effective training sets. reinforcement learning is an area of machine learning concerned with how software agents ought to take actions in an environment so as to maximize some notion of cumulative reward. due to its generality, the field is studied in many other disciplines, such as game theory, control theory, operations research, information theory, simulation-based optimization, multi-agent systems, swarm intelligence, statistics and genetic algorithms. in reinforcement learning, the environment is typically represented as a markov decision process (mdp). many reinforcements learning algorithms use dynamic programming techniques. reinforcement learning algorithms do not assume knowledge of an exact mathematical model of the mdp and are used when exact models are infeasible. reinforcement learning algorithms are used in autonomous vehicles or in learning to play a game against a human opponent. dimensionality reduction is a process of reducing the number of random variables under consideration by obtaining a set of principal variables. in other words, it is a process of reducing the dimension of the feature set, also called the \"number of features\". most of the dimensionality reduction techniques can be considered as either feature elimination or extraction. one of the popular methods of dimensionality reduction is principal component analysis (pca). pca involves changing higher-dimensional data (e.g., 3d) to a smaller space (e.g., 2d). the manifold hypothesis proposes that high-dimensional data sets lie along low-dimensional manifolds, and many dimensionality reduction techniques make this assumption, leading to the area of manifold learning and manifold regularization. other approaches have been developed which do not fit neatly into this three-fold categorization, and sometimes more than one is used by the same machine learning system. for example, topic modeling, meta-learning. self-learning, as a machine learning paradigm was introduced in 1982 along with a neural network capable of self-learning, named crossbar adaptive array (caa). it is learning with no external rewards and no external teacher advice. the caa self-learning algorithm computes, in a crossbar fashion, both decisions about actions and emotions (feelings) about consequence situations. the system is driven by the interaction between cognition and emotion. the self-learning algorithm updates a memory matrix w =||w(a,s)|| such that in each iteration executes the following machine learning routine: it is a system with only one input, situation, and only one output, action (or behavior) a. there is neither a separate reinforcement input nor an advice input from the environment. the backpropagated value (secondary reinforcement) is the emotion toward the consequence situation. the caa exists in two environments, one is the behavioral environment where it behaves, and the other is the genetic environment, wherefrom it initially and only once receives initial emotions about situations to be encountered in the behavioral environment. after receiving the genome (species) vector from the genetic environment, the caa learns a goal-seeking behavior, in an environment that contains both desirable and undesirable situations. several learning algorithms aim at discovering better representations of the inputs provided during training. classic examples include principal component analysis and cluster analysis. feature learning algorithms, also called representation learning algorithms, often attempt to preserve the information in their input but also transform it in a way that makes it useful, often as a pre-processing step before performing classification or predictions. this technique allows reconstruction of the inputs coming from the unknown data-generating distribution, while not being necessarily faithful to configurations that are implausible under that distribution. this replaces manual feature engineering, and allows a machine to both learn the features and use them to perform a specific task. feature learning can be either supervised or unsupervised. in supervised feature learning, features are learned using labeled input data. examples include artificial neural networks, multilayer perceptrons, and supervised dictionary learning. in unsupervised feature learning, features are learned with unlabeled input data. examples include dictionary learning, independent component analysis, autoencoders, matrix factorization and various forms of clustering. manifold learning algorithms attempt to do so under the constraint that the learned representation is low-dimensional. sparse coding algorithms attempt to do so under the constraint that the learned representation is sparse, meaning that the mathematical model has many zeros. multilinear subspace learning algorithms aim to learn low-dimensional representations directly from tensor representations for multidimensional data, without reshaping them into higher-dimensional vectors. deep learning algorithms discover multiple levels of representation, or a hierarchy of features, with higher-level, more abstract features defined in terms of (or generating) lower-level features. it has been argued that an intelligent machine is one that learns a representation that disentangles the underlying factors of variation that explain the observed data. feature learning is motivated by the fact that machine learning tasks such as classification often require input that is mathematically and computationally convenient to process. however, real-world data such as images, video, and sensory data has not yielded attempts to algorithmically define specific features. an alternative is to discover such features or representations through examination, without relying on explicit algorithms. sparse dictionary learning is a feature learning method where a training example is represented as a linear combination of basis functions and assumed to be a sparse matrix. the method is strongly np-hard and difficult to solve approximately. a popular heuristic method for sparse dictionary learning is the k-svd algorithm. sparse dictionary learning has been applied in several contexts. in classification, the problem is to determine the class to which a previously unseen training example belongs. for a dictionary where each class has already been built, a new training example is associated with the class that is best sparsely represented by the corresponding dictionary. sparse dictionary learning has also been applied in image de-noising. the key idea is that a clean image patch can be sparsely represented by an image dictionary, but the noise cannot. in data mining, anomaly detection, also known as outlier detection, is the identification of rare items, events or observations which raise suspicions by differing significantly from the majority of the data. typically, the anomalous items represent an issue such as bank fraud, a structural defect, medical problems or errors in a text. anomalies are referred to as outliers, novelties, noise, deviations and exceptions. in particular, in the context of abuse and network intrusion detection, the interesting objects are often not rare objects, but unexpected bursts of inactivity. this pattern does not adhere to the common statistical definition of an outlier as a rare object. many outlier detection methods (in particular, unsupervised algorithms) will fail on such data unless aggregated appropriately. instead, a cluster analysis algorithm may be able to detect the micro-clusters formed by these patterns. three broad categories of anomaly detection techniques exist. unsupervised anomaly detection techniques detect anomalies in an unlabeled test data set under the assumption that the majority of the instances in the data set are normal, by looking for instances that seem to fit the least to the remainder of the data set. supervised anomaly detection techniques require a data set that has been labeled as \"normal\" and \"abnormal\" and involves training a classifier (the key difference from many other statistical classification problems is the inherently unbalanced nature of outlier detection). semi-supervised anomaly detection techniques construct a model representing normal behavior from a given normal training data set and then test the likelihood of a test instance to be generated by the model. robot learning is inspired by a multitude of machine learning methods, starting from supervised learning, reinforcement learning, and finally meta-learning (e.g. maml). association rule learning is a rule-based machine learning method for discovering relationships between variables in large databases. it is intended to identify strong rules discovered in databases using some measure of \"interestingness\". rule-based machine learning is a general term for any machine learning method that identifies, learns, or evolves \"rules\" to store, manipulate or apply knowledge. the defining characteristic of a rule-based machine learning algorithm is the identification and utilization of a set of relational rules that collectively represent the knowledge captured by the system. this is in contrast to other machine learning algorithms that commonly identify a singular model that can be universally applied to any instance in order to make a prediction. rule-based machine learning approaches include learning classifier systems, association rule learning, and artificial immune systems. based on the concept of strong rules, rakesh agrawal, tomasz imieliński and arun swami introduced association rules for discovering regularities between products in large-scale transaction data recorded by point-of-sale (pos) systems in supermarkets. for example, the rule { o n i o n s , p o t a t o e s } ⇒ { b u r g e r } {\\\\displaystyle \\\\{\\\\mathrm {onions,potatoes} \\\\}\\\\rightarrow \\\\{\\\\mathrm {burger} \\\\}} found in the sales data of a supermarket would indicate that if a customer buys onions and potatoes together, they are likely to also buy hamburger meat. such information can be used as the basis for decisions about marketing activities such as promotional pricing or product placements. in addition to market basket analysis, association rules are employed today in application areas including web usage mining, intrusion detection, continuous production, and bioinformatics. in contrast with sequence mining, association rule learning typically does not consider the order of items either within a transaction or across transactions. learning classifier systems (lcs) are a family of rule-based machine learning algorithms that combine a discovery component, typically a genetic algorithm, with a learning component, performing either supervised learning, reinforcement learning, or unsupervised learning. they seek to identify a set of context-dependent rules that collectively store and apply knowledge in a piecewise manner in order to make predictions. inductive logic programming (ilp) is an approach to rule learning using logic programming as a uniform representation for input examples, background knowledge, and hypotheses. given an encoding of the known background knowledge and a set of examples represented as a logical database of facts, an ilp system will derive a hypothesized logic program that entails all positive and no negative examples. inductive programming is a related field that considers any kind of programming language for representing hypotheses (and not only logic programming), such as functional programs. inductive logic programming is particularly useful in bioinformatics and natural language processing. gordon plotkin and ehud shapiro laid the initial theoretical foundation for inductive machine learning in a logical setting. shapiro built their first implementation (model inference system) in 1981: a prolog program that inductively inferred logic programs from positive and negative examples. the term inductive here refers to philosophical induction, suggesting a theory to explain observed facts, rather than mathematical induction, proving a property for all members of a well-ordered set. a machine learning model is a type of mathematical model that, after being \"trained\" on a given dataset, can be used to make predictions or classifications on new data. during training, a learning algorithm iteratively adjusts the model\\'s internal parameters to minimize errors in its predictions. by extension, the term \"model\" can refer to several levels of specificity, from a general class of models and their associated learning algorithms to a fully trained model with all its internal parameters tuned. various types of models have been used and researched for machine learning systems, picking the best model for a task is called model selection. artificial neural networks (anns), or connectionist systems, are computing systems vaguely inspired by the biological neural networks that constitute animal brains. such systems \"learn\" to perform tasks by considering examples, generally without being programmed with any task-specific rules. an ann is a model based on a collection of connected units or nodes called \"artificial neurons\", which loosely model the neurons in a biological brain. each connection, like the synapses in a biological brain, can transmit information, a \"signal\", from one artificial neuron to another. an artificial neuron that receives a signal can process it and then signal additional artificial neurons connected to it. in common ann implementations, the signal at a connection between artificial neurons is a real number, and the output of each artificial neuron is computed by some non-linear function of the sum of its inputs. the connections between artificial neurons are called \"edges\". artificial neurons and edges typically have a weight that adjusts as learning proceeds. the weight increases or decreases the strength of the signal at a connection. artificial neurons may have a threshold such that the signal is only sent if the aggregate signal crosses that threshold. typically, artificial neurons are aggregated into layers. different layers may perform different kinds of transformations on their inputs. signals travel from the first layer (the input layer) to the last layer (the output layer), possibly after traversing the layers multiple times. the original goal of the ann approach was to solve problems in the same way that a human brain would. however, over time, attention moved to performing specific tasks, leading to deviations from biology. artificial neural networks have been used on a variety of tasks, including computer vision, speech recognition, machine translation, social network filtering, playing board and video games and medical diagnosis. deep learning consists of multiple hidden layers in an artificial neural network. this approach tries to model the way the human brain processes light and sound into vision and hearing. some successful applications of deep learning are computer vision and speech recognition. decision tree learning uses a decision tree as a predictive model to go from observations about an item (represented in the branches) to conclusions about the item\\'s target value (represented in the leaves). it is one of the predictive modeling approaches used in statistics, data mining, and machine learning. tree models where the target variable can take a discrete set of values are called classification trees; in these tree structures, leaves represent class labels, and branches represent conjunctions of features that lead to those class labels. decision trees where the target variable can take continuous values (typically real numbers) are called regression trees. in decision analysis, a decision tree can be used to visually and explicitly represent decisions and decision making. in data mining, a decision tree describes data, but the resulting classification tree can be an input for decision-making. support-vector machines (svms), also known as support-vector networks, are a set of related supervised learning methods used for classification and regression. given a set of training examples, each marked as belonging to one of two categories, an svm training algorithm builds a model that predicts whether a new example falls into one category. an svm training algorithm is a non-probabilistic, binary, linear classifier, although methods such as platt scaling exist to use svm in a probabilistic classification setting. in addition to performing linear classification, svms can efficiently perform a non-linear classification using what is called the kernel trick, implicitly mapping their inputs into high-dimensional feature spaces. regression analysis encompasses a large variety of statistical methods to estimate the relationship between input variables and their associated features. its most common form is linear regression, where a single line is drawn to best fit the given data according to a mathematical criterion such as ordinary least squares. the latter is often extended by regularization methods to mitigate overfitting and bias, as in ridge regression. when dealing with non-linear problems, go-to models include polynomial regression (for example, used for trendline fitting in microsoft excel ), logistic regression (often used in statistical classification) or even kernel regression, which introduces non-linearity by taking advantage of the kernel trick to implicitly map input variables to higher-dimensional space. a bayesian network, belief network, or directed acyclic graphical model is a probabilistic graphical model that represents a set of random variables and their conditional independence with a directed acyclic graph (dag). for example, a bayesian network could represent the probabilistic relationships between diseases and symptoms. given symptoms, the network can be used to compute the probabilities of the presence of various diseases. efficient algorithms exist that perform inference and learning. bayesian networks that model sequences of variables, like speech signals or protein sequences, are called dynamic bayesian networks. generalizations of bayesian networks that can represent and solve decision problems under uncertainty are called influence diagrams. a gaussian process is a stochastic process in which every finite collection of the random variables in the process has a multivariate normal distribution, and it relies on a pre-defined covariance function, or kernel, that models how pairs of points relate to each other depending on their locations. given a set of observed points, or input–output examples, the distribution of the (unobserved) output of a new point as function of its input data can be directly computed by looking like the observed points and the covariances between those points and the new, unobserved point. gaussian processes are popular surrogate models in bayesian optimization used to do hyperparameter optimization. a genetic algorithm (ga) is a search algorithm and heuristic technique that mimics the process of natural selection, using methods such as mutation and crossover to generate new genotypes in the hope of finding good solutions to a given problem. in machine learning, genetic algorithms were used in the 1980s and 1990s. conversely, machine learning techniques have been used to improve the performance of genetic and evolutionary algorithms. the theory of belief functions, also referred to as evidence theory or dempster–shafer theory, is a general framework for reasoning with uncertainty, with understood connections to other frameworks such as probability, possibility and imprecise probability theories. these theoretical frameworks can be thought of as a kind of learner and have some analogous properties of how evidence is combined (e.g., dempster\\'s rule of combination), just like how in a pmf-based bayesian approach[clarification needed] would combine probabilities. however, there are many caveats to these beliefs functions when compared to bayesian approaches in order to incorporate ignorance and uncertainty quantification. these belief function approaches that are implemented within the machine learning domain typically leverage a fusion approach of various ensemble methods to better handle the learner\\'s decision boundary, low samples, and ambiguous class issues that standard machine learning approach tend to have difficulty resolving. however, the computational complexity of these algorithms are dependent on the number of propositions (classes), and can lead to a much higher computation time when compared to other machine learning approaches. typically, machine learning models require a high quantity of reliable data to perform accurate predictions. when training a machine learning model, machine learning engineers need to target and collect a large and representative sample of data. data from the training set can be as varied as a corpus of text, a collection of images, sensor data, and data collected from individual users of a service. overfitting is something to watch out for when training a machine learning model. trained models derived from biased or non-evaluated data can result in skewed or undesired predictions. biased models may result in detrimental outcomes, thereby furthering the negative impacts on society or objectives. algorithmic bias is a potential result of data not being fully prepared for training. machine learning ethics is becoming a field of study and notably, becoming integrated within machine learning engineering teams. federated learning is an adapted form of distributed artificial intelligence to training machine learning models that decentralizes the training process, allowing for users\\' privacy to be maintained by not needing to send their data to a centralized server. this also increases efficiency by decentralizing the training process to many devices. for example, gboard uses federated machine learning to train search query prediction models on users\\' mobile phones without having to send individual searches back to google. there are many applications for machine learning, including: in 2006, the media-services provider netflix held the first \"netflix prize\" competition to find a program to better predict user preferences and improve the accuracy of its existing cinematch movie recommendation algorithm by at least 10%. a joint team made up of researchers from at&t labs-research in collaboration with the teams big chaos and pragmatic theory built an ensemble model to win the grand prize in 2009 for $1 million. shortly after the prize was awarded, netflix realized that viewers\\' ratings were not the best indicators of their viewing patterns (\"everything is a recommendation\") and they changed their recommendation engine accordingly. in 2010 the wall street journal wrote about the firm rebellion research and their use of machine learning to predict the financial crisis. in 2012, co-founder of sun microsystems, vinod khosla, predicted that 80% of medical doctors jobs would be lost in the next two decades to automated machine learning medical diagnostic software. in 2014, it was reported that a machine learning algorithm had been applied in the field of art history to study fine art paintings and that it may have revealed previously unrecognized influences among artists. in 2019 springer nature published the first research book created using machine learning. in 2020, machine learning technology was used to help make diagnoses and aid researchers in developing a cure for covid-19. machine learning was recently applied to predict the pro-environmental behavior of travelers. recently, machine learning technology was also applied to optimize smartphone\\'s performance and thermal behavior based on the user\\'s interaction with the phone. when applied correctly, machine learning algorithms (mlas) can utilize a wide range of company characteristics to predict stock returns without overfitting. by employing effective feature engineering and combining forecasts, mlas can generate results that far surpass those obtained from basic linear techniques like ols. recent advancements in machine learning have extended into the field of quantum chemistry, where novel algorithms now enable the prediction of solvent effects on chemical reactions, thereby offering new tools for chemists to tailor experimental conditions for optimal outcomes. machine learning is becoming a useful tool to investigate and predict evacuation decision making in large scale and small scale disasters. different solutions have been tested to predict if and when householders decide to evacuate during wildfires and hurricanes. other applications have been focusing on pre evacuation decisions in building fires. although machine learning has been transformative in some fields, machine-learning programs often fail to deliver expected results. reasons for this are numerous: lack of (suitable) data, lack of access to the data, data bias, privacy problems, badly chosen tasks and algorithms, wrong tools and people, lack of resources, and evaluation problems. the \"black box theory\" poses another yet significant challenge. black box refers to a situation where the algorithm or the process of producing an output is entirely opaque, meaning that even the coders of the algorithm cannot audit the pattern that the machine extracted out of the data. the house of lords select committee, which claimed that such an “intelligence system” that could have a “substantial impact on an individual’s life” would not be considered acceptable unless it provided “a full and satisfactory explanation for the decisions” it makes. in 2018, a self-driving car from uber failed to detect a pedestrian, who was killed after a collision. attempts to use machine learning in healthcare with the ibm watson system failed to deliver even after years of time and billions of dollars invested. microsoft\\'s bing chat chatbot has been reported to produce hostile and offensive response against its users. machine learning has been used as a strategy to update the evidence related to a systematic review and increased reviewer burden related to the growth of biomedical literature. while it has improved with training sets, it has not yet developed sufficiently to reduce the workload burden without limiting the necessary sensitivity for the findings research themselves. different machine learning approaches can suffer from different data biases. a machine learning system trained specifically on current customers may not be able to predict the needs of new customer groups that are not represented in the training data. when trained on human-made data, machine learning is likely to pick up the constitutional and unconscious biases already present in society. language models learned from data have been shown to contain human-like biases. in an experiment carried out by propublica, an investigative journalism organization, a machine learning algorithm\\'s insight into the recidivism rates among prisoners falsely flagged \"black defendants high risk twice as often as white defendants.\" in 2015, google photos would often tag black people as gorillas, and in 2018, this still was not well resolved, but google reportedly was still using the workaround to remove all gorillas from the training data and thus was not able to recognize real gorillas at all. similar issues with recognizing non-white people have been found in many other systems. in 2016, microsoft tested tay, a chatbot that learned from twitter, and it quickly picked up racist and sexist language. because of such challenges, the effective use of machine learning may take longer to be adopted in other domains. concern for fairness in machine learning, that is, reducing bias in machine learning and propelling its use for human good, is increasingly expressed by artificial intelligence scientists, including fei-fei li, who reminds engineers that \"[t]here\\'s nothing artificial about ai. it\\'s inspired by people, it\\'s created by people, and—most importantly—it impacts people. it is a powerful tool we are only just beginning to understand, and that is a profound responsibility.\" explainable ai (xai), or interpretable ai, or explainable machine learning (xml), is artificial intelligence (ai) in which humans can understand the decisions or predictions made by the ai. it contrasts with the \"black box\" concept in machine learning where even its designers cannot explain why an ai arrived at a specific decision. by refining the mental models of users of ai-powered systems and dismantling their misconceptions, xai promises to help users perform more effectively. xai may be an implementation of the social right to explanation. settling on a bad, overly complex theory gerrymandered to fit all the past training data is known as overfitting. many systems attempt to reduce overfitting by rewarding a theory in accordance with how well it fits the data but penalizing the theory in accordance with how complex the theory is. learners can also disappoint by \"learning the wrong lesson\". a toy example is that an image classifier trained only on pictures of brown horses and black cats might conclude that all brown patches are likely to be horses. a real-world example is that, unlike humans, current image classifiers often do not primarily make judgments from the spatial relationship between components of the picture, and they learn relationships between pixels that humans are oblivious to, but that still correlate with images of certain types of real objects. modifying these patterns on a legitimate image can result in \"adversarial\" images that the system misclassifies. adversarial vulnerabilities can also result in nonlinear systems, or from non-pattern perturbations. for some systems, it is possible to change the output by only changing a single adversarially chosen pixel. machine learning models are often vulnerable to manipulation and/or evasion via adversarial machine learning. researchers have demonstrated how backdoors can be placed undetectably into classifying (e.g., for categories \"spam\" and well-visible \"not spam\" of posts) machine learning models that are often developed and/or trained by third parties. parties can change the classification of any input, including in cases for which a type of data/software transparency is provided, possibly including white-box access. classification of machine learning models can be validated by accuracy estimation techniques like the holdout method, which splits the data in a training and test set (conventionally 2/3 training set and 1/3 test set designation) and evaluates the performance of the training model on the test set. in comparison, the k-fold-cross-validation method randomly partitions the data into k subsets and then k experiments are performed each respectively considering 1 subset for evaluation and the remaining k-1 subsets for training the model. in addition to the holdout and cross-validation methods, bootstrap, which samples n instances with replacement from the dataset, can be used to assess model accuracy. in addition to overall accuracy, investigators frequently report sensitivity and specificity meaning true positive rate (tpr) and true negative rate (tnr) respectively. similarly, investigators sometimes report the false positive rate (fpr) as well as the false negative rate (fnr). however, these rates are ratios that fail to reveal their numerators and denominators. the total operating characteristic (toc) is an effective method to express a model\\'s diagnostic ability. toc shows the numerators and denominators of the previously mentioned rates, thus toc provides more information than the commonly used receiver operating characteristic (roc) and roc\\'s associated area under the curve (auc). machine learning poses a host of ethical questions. systems that are trained on datasets collected with biases may exhibit these biases upon use (algorithmic bias), thus digitizing cultural prejudices. for example, in 1988, the uk\\'s commission for racial equality found that st. george\\'s medical school had been using a computer program trained from data of previous admissions staff and that this program had denied nearly 60 candidates who were found to either be women or have non-european sounding names. using job hiring data from a firm with racist hiring policies may lead to a machine learning system duplicating the bias by scoring job applicants by similarity to previous successful applicants. another example includes predictive policing company geolitica\\'s predictive algorithm that resulted in “disproportionately high levels of over-policing in low-income and minority communities” after being trained with historical crime data. while responsible collection of data and documentation of algorithmic rules used by a system is considered a critical part of machine learning, some researchers blame lack of participation and representation of minority population in the field of ai for machine learning\\'s vulnerability to biases. in fact, according to research carried out by the computing research association (cra) in 2021, “female faculty merely make up 16.1%” of all faculty members who focus on ai among several universities around the world. furthermore, among the group of “new u.s. resident ai phd graduates,” 45% identified as white, 22.4% as asian, 3.2% as hispanic, and 2.4% as african american, which further demonstrates a lack of diversity in the field of ai. ai can be well-equipped to make decisions in technical fields, which rely heavily on data and historical information. these decisions rely on objectivity and logical reasoning. because human languages contain biases, machines trained on language corpora will necessarily also learn these biases. other forms of ethical challenges, not related to personal biases, are seen in health care. there are concerns among health care professionals that these systems might not be designed in the public\\'s interest but as income-generating machines. this is especially true in the united states where there is a long-standing ethical dilemma of improving health care, but also increasing profits. for example, the algorithms could be designed to provide patients with unnecessary tests or medication in which the algorithm\\'s proprietary owners hold stakes. there is potential for machine learning in health care to provide professionals an additional tool to diagnose, medicate, and plan recovery paths for patients, but this requires these biases to be mitigated. since the 2010s, advances in both machine learning algorithms and computer hardware have led to more efficient methods for training deep neural networks (a particular narrow subdomain of machine learning) that contain many layers of nonlinear hidden units. by 2019, graphic processing units (gpus), often with ai-specific enhancements, had displaced cpus as the dominant method of training large-scale commercial cloud ai. openai estimated the hardware computing used in the largest deep learning projects from alexnet (2012) to alphazero (2017), and found a 300,000-fold increase in the amount of compute required, with a doubling-time trendline of 3.4 months. a physical neural network or neuromorphic computer is a type of artificial neural network in which an electrically adjustable material is used to emulate the function of a neural synapse. \"physical\" neural network is used to emphasize the reliance on physical hardware used to emulate neurons as opposed to software-based approaches. more generally the term is applicable to other artificial neural networks in which a memristor or other electrically adjustable resistance material is used to emulate a neural synapse. embedded machine learning is a sub-field of machine learning, where the machine learning model is run on embedded systems with limited computing resources such as wearable computers, edge devices and microcontrollers. running machine learning model in embedded devices removes the need for transferring and storing data on cloud servers for further processing, henceforth, reducing data breaches and privacy leaks happening because of transferring data, and also minimizes theft of intellectual properties, personal data and business secrets. embedded machine learning could be applied through several techniques including hardware acceleration, using approximate computing, optimization of machine learning models and many more. pruning, quantization, knowledge distillation, low-rank factorization, network architecture search (nas) & parameter sharing are few of the techniques used for optimization of machine learning models. software suites containing a variety of machine learning algorithms include the following: '"
            ],
            "application/vnd.google.colaboratory.intrinsic+json": {
              "type": "string"
            }
          },
          "metadata": {},
          "execution_count": 12
        }
      ]
    },
    {
      "cell_type": "code",
      "source": [
        "!pip install transformers"
      ],
      "metadata": {
        "colab": {
          "base_uri": "https://localhost:8080/"
        },
        "id": "re7wHAlQkB_W",
        "outputId": "1c6a1b17-4e8c-41a8-de31-2ec2f9e60eda"
      },
      "execution_count": null,
      "outputs": [
        {
          "output_type": "stream",
          "name": "stdout",
          "text": [
            "Requirement already satisfied: transformers in /usr/local/lib/python3.10/dist-packages (4.42.4)\n",
            "Requirement already satisfied: filelock in /usr/local/lib/python3.10/dist-packages (from transformers) (3.15.4)\n",
            "Requirement already satisfied: huggingface-hub<1.0,>=0.23.2 in /usr/local/lib/python3.10/dist-packages (from transformers) (0.23.5)\n",
            "Requirement already satisfied: numpy<2.0,>=1.17 in /usr/local/lib/python3.10/dist-packages (from transformers) (1.26.4)\n",
            "Requirement already satisfied: packaging>=20.0 in /usr/local/lib/python3.10/dist-packages (from transformers) (24.1)\n",
            "Requirement already satisfied: pyyaml>=5.1 in /usr/local/lib/python3.10/dist-packages (from transformers) (6.0.1)\n",
            "Requirement already satisfied: regex!=2019.12.17 in /usr/local/lib/python3.10/dist-packages (from transformers) (2024.5.15)\n",
            "Requirement already satisfied: requests in /usr/local/lib/python3.10/dist-packages (from transformers) (2.31.0)\n",
            "Requirement already satisfied: safetensors>=0.4.1 in /usr/local/lib/python3.10/dist-packages (from transformers) (0.4.3)\n",
            "Requirement already satisfied: tokenizers<0.20,>=0.19 in /usr/local/lib/python3.10/dist-packages (from transformers) (0.19.1)\n",
            "Requirement already satisfied: tqdm>=4.27 in /usr/local/lib/python3.10/dist-packages (from transformers) (4.66.4)\n",
            "Requirement already satisfied: fsspec>=2023.5.0 in /usr/local/lib/python3.10/dist-packages (from huggingface-hub<1.0,>=0.23.2->transformers) (2024.6.1)\n",
            "Requirement already satisfied: typing-extensions>=3.7.4.3 in /usr/local/lib/python3.10/dist-packages (from huggingface-hub<1.0,>=0.23.2->transformers) (4.12.2)\n",
            "Requirement already satisfied: charset-normalizer<4,>=2 in /usr/local/lib/python3.10/dist-packages (from requests->transformers) (3.3.2)\n",
            "Requirement already satisfied: idna<4,>=2.5 in /usr/local/lib/python3.10/dist-packages (from requests->transformers) (3.7)\n",
            "Requirement already satisfied: urllib3<3,>=1.21.1 in /usr/local/lib/python3.10/dist-packages (from requests->transformers) (2.0.7)\n",
            "Requirement already satisfied: certifi>=2017.4.17 in /usr/local/lib/python3.10/dist-packages (from requests->transformers) (2024.7.4)\n"
          ]
        }
      ]
    },
    {
      "cell_type": "code",
      "source": [
        "# from transformers import AutoTokenizer, AutoModel\n",
        "# import torch\n",
        "# import numpy as np"
      ],
      "metadata": {
        "id": "JB6IRTa9kz-Q"
      },
      "execution_count": null,
      "outputs": []
    },
    {
      "cell_type": "code",
      "source": [
        "# tokenizer = AutoTokenizer.from_pretrained('bert-base-uncased')\n",
        "# model = AutoModel.from_pretrained('bert-base-uncased')\n",
        "\n",
        "# def get_embeddings(text):\n",
        "#     inputs = tokenizer(text, return_tensors='pt', truncation=True, padding=True)\n",
        "#     with torch.no_grad():\n",
        "#         outputs = model(**inputs)\n",
        "#     embeddings = outputs.last_hidden_state.mean(dim=1).squeeze().numpy()\n",
        "#     return embeddings"
      ],
      "metadata": {
        "id": "AbyRlEj-lB5Q"
      },
      "execution_count": null,
      "outputs": []
    },
    {
      "cell_type": "code",
      "source": [
        "# embedding = get_embeddings(data_text)"
      ],
      "metadata": {
        "id": "Ive3peJllGC9"
      },
      "execution_count": null,
      "outputs": []
    },
    {
      "cell_type": "code",
      "source": [
        "# embedding"
      ],
      "metadata": {
        "colab": {
          "base_uri": "https://localhost:8080/"
        },
        "collapsed": true,
        "id": "CX_FSW6vlKZi",
        "outputId": "e550c3fe-c763-47de-973e-5a70ea4fc596"
      },
      "execution_count": null,
      "outputs": [
        {
          "output_type": "execute_result",
          "data": {
            "text/plain": [
              "array([-3.27564865e-01,  2.20819354e-01, -3.61824781e-02, -8.13300908e-02,\n",
              "        2.74749070e-01,  1.38623506e-01,  1.57642007e-01,  2.14318037e-01,\n",
              "        5.73212430e-02, -1.04807623e-01, -3.75961550e-02, -1.71600744e-01,\n",
              "       -3.84287655e-01,  1.19442627e-01, -1.91683039e-01,  3.97096753e-01,\n",
              "        3.15688193e-01, -1.51466370e-01, -3.16043556e-01,  3.46739888e-01,\n",
              "        1.09640270e-01,  2.56010234e-01, -8.09673667e-02,  7.85538673e-01,\n",
              "        3.24750543e-01, -2.03074023e-01, -1.08116306e-03, -1.75630525e-02,\n",
              "       -1.00397095e-01, -4.81513739e-02,  5.59247255e-01,  1.10456869e-01,\n",
              "       -1.56009704e-01, -4.54542100e-01, -8.21214318e-02,  1.49039730e-01,\n",
              "       -2.83184230e-01, -3.00270498e-01, -7.41646141e-02,  1.92612648e-01,\n",
              "       -4.60142970e-01, -2.24875540e-01, -2.08686858e-01,  7.51166791e-02,\n",
              "       -2.42016286e-01, -1.58139452e-01,  5.22551201e-02,  1.51488185e-02,\n",
              "       -6.79209977e-02,  1.56079829e-02, -8.34165394e-01,  3.76807988e-01,\n",
              "       -5.93461357e-02,  4.87736519e-03,  7.37861171e-02,  6.98171794e-01,\n",
              "        1.07505769e-01, -3.42302740e-01, -3.19850564e-01, -3.54195774e-01,\n",
              "       -2.29466381e-03,  9.61983725e-02,  7.32201934e-02, -4.34945107e-01,\n",
              "        1.44478649e-01,  2.73214877e-01,  5.53613529e-03,  2.72273391e-01,\n",
              "       -7.36705244e-01, -1.51779681e-01, -4.72803593e-01, -8.46175104e-02,\n",
              "       -3.77406389e-01, -2.22989619e-02, -3.13447952e-01,  2.57248767e-02,\n",
              "        1.79458857e-01,  3.49042743e-01, -5.69741353e-02, -6.49543554e-02,\n",
              "       -4.23276424e-01,  4.27038044e-01, -1.57297388e-01,  3.01717043e-01,\n",
              "        3.22239816e-01,  4.51236963e-04,  3.63121256e-02,  3.76382589e-01,\n",
              "       -3.68421495e-01,  3.42872679e-01, -1.87158301e-01, -2.10500255e-01,\n",
              "        9.60390940e-02,  7.80315995e-02,  4.11554098e-01,  1.84954144e-02,\n",
              "        2.02758521e-01,  1.11256927e-01, -3.59678745e-01,  2.49519706e-01,\n",
              "        1.48886442e-01, -5.15489340e-01,  3.33238721e-01,  1.01225480e-01,\n",
              "        2.32993569e-02, -5.00173029e-03,  1.63909227e-01,  9.49478447e-02,\n",
              "       -2.44723618e-01,  2.67953724e-01,  1.91330999e-01, -6.36125654e-02,\n",
              "       -1.12879887e-01, -4.63282615e-01, -4.00372408e-02, -8.58770683e-02,\n",
              "        8.34687129e-02,  8.37448388e-02, -2.65725348e-02,  2.41622269e-01,\n",
              "        1.35734141e-01, -7.72631764e-02, -1.70468390e-02,  7.62492776e-01,\n",
              "       -1.68377623e-01, -7.85603002e-03,  7.08251968e-02,  2.28412390e-01,\n",
              "       -6.08412810e-02, -4.04835761e-01,  2.86676764e-01,  4.17808712e-01,\n",
              "        3.45377088e-01, -1.38178796e-01, -4.34761941e-01,  4.18048382e-01,\n",
              "       -4.62790318e-02, -1.71603411e-01, -5.74601948e-01,  3.85060608e-01,\n",
              "        1.74371582e-02, -6.35751426e-01,  5.72152019e-01,  4.16742824e-02,\n",
              "        2.53675580e-01, -1.62770227e-01,  9.88047291e-03, -1.43694878e-01,\n",
              "        4.60543260e-02,  2.68199027e-01,  2.29229629e-01,  8.50719362e-02,\n",
              "       -1.19997449e-01, -1.15237191e-01,  3.01684644e-02,  8.14831257e-03,\n",
              "       -5.33631682e-01,  2.84354478e-01,  8.80900770e-02,  6.00645728e-02,\n",
              "        1.37097076e-01, -2.43253231e-01, -4.01687682e-01,  4.80332188e-02,\n",
              "       -1.14778653e-01, -6.61017150e-02,  3.01404327e-01,  5.14968991e-01,\n",
              "       -2.50900894e-01,  4.27762926e-01, -3.52722257e-02, -2.06191361e-01,\n",
              "        8.16578627e-01, -7.84670934e-04,  1.91976056e-02,  7.39953965e-02,\n",
              "        1.15261182e-01,  1.57281030e-02,  5.25648773e-01,  2.87196159e-01,\n",
              "       -9.08549786e-01,  2.73610592e-01,  7.01130778e-02, -1.89250186e-01,\n",
              "        2.09793851e-01, -1.04149990e-01,  5.05045533e-01, -4.06609952e-01,\n",
              "       -3.09825726e-02, -3.29698831e-01, -1.76824778e-01, -3.70893896e-01,\n",
              "       -3.81834298e-01, -2.61951312e-02,  3.90890241e-01,  9.46727172e-02,\n",
              "       -2.43084595e-01,  2.48422623e-02, -5.60680747e-01, -2.90022623e-02,\n",
              "        5.90116456e-02, -1.48122579e-01,  5.18725067e-02,  2.38885343e-01,\n",
              "        3.42414156e-03, -8.69845390e-01,  1.06912917e-02, -2.20542580e-01,\n",
              "       -3.47458392e-01, -8.33008997e-03, -3.23967993e-01,  2.94051588e-01,\n",
              "       -8.98701549e-02,  3.85215916e-02,  1.24727078e-02,  3.09331745e-01,\n",
              "       -3.19105566e-01,  1.18869543e-01,  1.36852324e-01, -1.57601267e-01,\n",
              "        4.07509990e-02,  1.19480237e-01, -5.97368240e-01,  3.11908543e-01,\n",
              "        1.20512955e-01,  9.51020241e-01,  2.28749499e-01, -4.93117183e-01,\n",
              "        5.50344288e-01,  4.98421729e-01,  1.20160051e-01, -3.29805553e-01,\n",
              "        7.12224603e-01, -2.37605974e-01, -2.82546520e-01, -1.47567600e-01,\n",
              "       -1.92869917e-01, -2.52107084e-01,  2.28157416e-01, -2.20208883e-01,\n",
              "       -1.91119000e-01,  5.49689293e-01,  1.05075024e-01,  1.33047193e-01,\n",
              "        1.69616818e-01, -5.23239791e-01, -1.23284675e-01,  1.71006203e-01,\n",
              "       -1.20217882e-01, -2.15366751e-01, -6.17139757e-01, -5.09680621e-02,\n",
              "       -4.89987433e-02, -3.36499929e-01, -8.80422741e-02, -1.76569641e-01,\n",
              "       -1.49370283e-01, -3.03024769e-01, -1.34725571e-02,  3.66798878e-01,\n",
              "        2.36214280e-01,  2.26831555e-01, -1.06203426e-02,  6.83339983e-02,\n",
              "       -1.11029156e-01, -7.23900318e-01, -1.77440792e-03,  2.45155782e-01,\n",
              "        4.76199210e-01,  1.97240248e-01,  2.55729675e-01, -3.20239067e-01,\n",
              "       -8.78413580e-03,  6.79963827e-01, -4.77052122e-01, -4.70958054e-01,\n",
              "        1.31940216e-01, -8.00578147e-02, -1.59201309e-01, -1.04698591e-01,\n",
              "        1.17332667e-01,  6.65175319e-01, -3.80157053e-01,  2.02842914e-02,\n",
              "       -3.09621930e-01, -1.93497390e-01,  1.79097548e-01, -6.28408641e-02,\n",
              "        5.92009425e-02, -1.89054042e-01, -2.58211911e-01,  1.88080609e-01,\n",
              "       -6.10113502e-01, -2.74662554e-01,  4.83415946e-02,  2.74420112e-01,\n",
              "        3.47040802e-01, -7.46622309e-02,  1.49157107e-01, -1.05268277e-01,\n",
              "       -2.91222721e-01, -5.37934065e-01,  2.17599168e-01,  2.34048307e-01,\n",
              "       -1.64969921e-01,  6.31206930e-02,  1.14549406e-01, -3.80645663e-01,\n",
              "       -2.99561357e+00,  1.13943726e-01,  3.43478143e-01, -2.16600955e-01,\n",
              "        2.78912425e-01,  2.69540220e-01, -1.27615444e-02, -1.13945670e-01,\n",
              "       -2.91126847e-01,  1.20569438e-01, -3.50148320e-01, -4.17125762e-01,\n",
              "       -1.43655971e-01,  5.73618293e-01,  2.52335221e-01, -2.15085924e-01,\n",
              "       -4.71491367e-03, -4.66032326e-01, -1.40153617e-01,  3.69497120e-01,\n",
              "       -3.46739180e-02, -5.15081584e-01, -4.87569273e-02, -4.35180999e-02,\n",
              "        5.77591918e-02,  3.51683348e-01, -4.05398041e-01, -2.08377093e-01,\n",
              "       -1.48088723e-01,  1.89622343e-02,  4.70564030e-02, -4.52130318e-01,\n",
              "       -4.51970771e-02,  4.29624200e-01,  1.20599762e-01,  2.61277497e-01,\n",
              "        3.68293934e-02, -2.99332976e-01, -1.85049493e-02, -3.77559930e-01,\n",
              "       -1.37453526e-01, -3.86319458e-01,  2.65662745e-02, -2.10757047e-01,\n",
              "        8.70736301e-01, -7.39192776e-03, -2.59446651e-02, -7.10847154e-02,\n",
              "        1.60360232e-01, -7.19007552e-02,  1.61813021e-01,  2.34009594e-01,\n",
              "       -2.71262854e-01, -1.88797303e-02,  3.59656289e-02, -3.16289663e-01,\n",
              "        4.88539398e-01,  1.72291219e-01, -5.21151759e-02, -2.52013654e-01,\n",
              "        2.22934127e-01, -2.39180297e-01, -2.96892226e-01, -2.39871502e-01,\n",
              "       -4.58613522e-02, -4.76597428e-01, -8.00340772e-01, -2.23924994e-01,\n",
              "        1.29003942e-01, -5.84015958e-02, -4.45922501e-02,  6.06204093e-01,\n",
              "       -5.40439367e-01, -2.36208439e-01, -3.08976024e-02, -4.66865778e-01,\n",
              "        2.96377420e-01, -4.49235141e-01,  1.16643593e-01, -8.09250921e-02,\n",
              "       -1.61313966e-01, -6.31804824e-01, -1.32760674e-01, -3.39218020e-01,\n",
              "       -1.72604576e-01, -4.30720568e-01, -1.46743000e-01, -1.54487520e-01,\n",
              "       -4.16791499e-01, -6.58944726e-01,  4.03693408e-01,  2.34150499e-01,\n",
              "        3.40599060e-01,  8.45474750e-02,  2.16663778e-01,  1.60766691e-02,\n",
              "        3.16022962e-01,  6.24022353e-03,  1.27095118e-01, -1.08050436e-01,\n",
              "       -4.37186882e-02, -4.37992588e-02,  4.79547083e-01, -2.69508481e-01,\n",
              "        1.90243348e-01,  1.54179074e-02, -3.50750864e-01, -4.84863296e-03,\n",
              "        3.68771374e-01,  1.50999129e-01, -2.96926558e-01, -1.97625965e-01,\n",
              "        3.86451781e-01, -4.21555758e-01, -1.16014026e-01,  3.29836547e-01,\n",
              "        1.69441387e-01,  5.46517491e-01,  1.34076238e-01, -3.54159236e-01,\n",
              "       -1.92316368e-01,  2.85147756e-01, -8.43695402e-02, -1.14374578e-01,\n",
              "        3.04671526e-01,  3.15692350e-02, -1.55508935e-01,  2.39507124e-01,\n",
              "        7.86066502e-02, -1.15613356e-01, -2.13321090e-01, -3.92601863e-02,\n",
              "       -1.49206430e-01,  4.59357709e-01,  2.00329661e-01, -9.52983797e-02,\n",
              "       -1.39934152e-01, -4.06248271e-01, -2.15318769e-01,  2.57109463e-01,\n",
              "        2.63440549e-01,  9.47061628e-02,  2.20121592e-01, -4.15019035e-01,\n",
              "        2.51634959e-02,  3.80643070e-01,  7.27769583e-02,  1.01787589e-01,\n",
              "       -1.90314040e-01, -8.36418942e-03, -5.79728603e-01, -2.96187937e-01,\n",
              "       -2.08478719e-01, -2.88964272e-01,  3.57767463e-01,  3.01407576e-01,\n",
              "        1.00252945e-02,  1.98741853e-02,  1.07809044e-02, -4.63809311e-01,\n",
              "        3.09907049e-01,  2.53876805e-01,  2.70519078e-01, -8.92958045e-03,\n",
              "       -3.01878095e-01,  4.40788120e-01, -1.86373606e-01, -1.48883194e-01,\n",
              "        1.40294015e-01, -4.14491072e-03, -1.89986885e-01, -3.97179425e-01,\n",
              "        1.97957188e-01, -4.48122740e-01, -1.12744644e-01,  5.17052829e-01,\n",
              "        2.47986600e-01, -2.35467061e-01, -4.54816282e-01,  1.87529579e-01,\n",
              "       -5.63871227e-02, -2.03168601e-01, -2.86223710e-01, -1.06259249e-02,\n",
              "        3.29040587e-01, -4.51636203e-02,  3.44472796e-01, -2.38574356e-01,\n",
              "       -2.83082306e-01,  2.47026719e-02,  2.13774294e-02,  6.15162849e-01,\n",
              "        4.65451665e-02, -1.10076562e-01, -4.52718914e-01, -4.79360297e-02,\n",
              "        2.06853405e-01,  1.20145222e-02,  2.73134783e-02, -7.46324956e-02,\n",
              "        1.72447860e-01, -2.66976029e-01, -1.44747391e-01, -6.03774637e-02,\n",
              "        3.27717185e-01, -2.75514871e-01, -9.82265472e-02,  2.05279142e-01,\n",
              "       -1.38532296e-01,  1.07461005e-01, -9.04740810e-01, -4.23178449e-02,\n",
              "       -1.41575128e-01, -2.23570108e-01,  2.20633507e-01, -3.53986323e-01,\n",
              "        1.10553075e-02, -1.01882018e-01, -5.13111651e-01,  9.19747874e-02,\n",
              "       -8.00165609e-02, -1.05671138e-01, -5.62437512e-02, -2.53979489e-03,\n",
              "       -4.06942248e-01, -3.56415272e-01, -4.68470789e-02,  1.11995123e-01,\n",
              "       -2.28110597e-01, -8.73208418e-02,  8.89518857e-02, -1.09588552e+00,\n",
              "       -4.72813919e-02,  1.49440169e-01, -1.08487405e-01,  4.78637777e-03,\n",
              "       -3.72966453e-02, -4.71758008e-01, -6.36778772e-03, -3.88146996e-01,\n",
              "        2.36208126e-01,  2.35815704e-01, -2.29490325e-01,  7.93174878e-02,\n",
              "        3.51356745e-01,  1.44304894e-02, -6.32544309e-02,  3.77238959e-01,\n",
              "       -2.90065944e-01,  1.86732724e-01, -8.89081955e-02,  4.82789464e-02,\n",
              "       -1.68836698e-01, -3.70103456e-02,  9.58655030e-02, -2.16057688e-01,\n",
              "       -3.72723460e-01, -2.11379394e-01, -1.13700628e-01, -8.48421305e-02,\n",
              "       -3.61746028e-02, -3.52586448e-01, -2.73425281e-01,  8.92576873e-02,\n",
              "        3.01766515e-01, -5.29509783e-02,  1.35896921e-01,  1.34491483e-02,\n",
              "        3.61539930e-01, -4.22797173e-01,  1.46941677e-01, -4.23182130e-01,\n",
              "       -1.33074641e-01,  2.15520710e-02,  4.27012108e-02,  1.41921520e-01,\n",
              "        2.54887640e-01, -9.82447565e-02,  3.57541263e-01, -6.72188878e-01,\n",
              "       -3.20268452e-01,  5.95915653e-02,  2.56105177e-02, -3.34858865e-01,\n",
              "        1.70243174e-01, -4.20331120e-01,  1.95080549e-01,  3.10147315e-01,\n",
              "        3.34872156e-02, -2.76603162e-01,  2.07972139e-01, -1.72462046e-01,\n",
              "        1.09062180e-01,  2.29742825e-01, -4.13106620e-01, -2.05645487e-01,\n",
              "        6.61133409e-01,  5.39946198e-01, -1.15440220e-01,  9.37588513e-02,\n",
              "        1.19746991e-01, -9.99901071e-03,  2.60387808e-01, -1.28977364e-02,\n",
              "        2.23632380e-02, -1.39525589e-02,  1.91404670e-01, -4.67865616e-01,\n",
              "       -1.61873892e-01,  4.34019938e-02, -1.83680952e-01, -2.99783140e-01,\n",
              "        5.09738564e-01,  9.80924368e-02, -4.56555188e-01, -1.20401837e-01,\n",
              "        1.38500899e-01, -1.10663332e-01,  4.82297838e-01,  1.40316427e-01,\n",
              "       -5.90504780e-02,  3.42070125e-02,  3.95330280e-01, -1.59344882e-01,\n",
              "        3.36340964e-01,  4.55244184e-01, -1.08555801e-01, -1.75054342e-01,\n",
              "       -6.71187490e-02,  4.17145759e-01,  1.19111657e-01,  4.68173414e-01,\n",
              "       -2.19098613e-01,  5.78890860e-01, -5.37001267e-02, -9.66043174e-02,\n",
              "        1.18355960e-01,  7.17212260e-03,  1.96166694e-01,  1.88793875e-02,\n",
              "        2.30104566e-01,  2.86232289e-02,  1.62125230e-01,  5.60011268e-01,\n",
              "        8.43658149e-02,  2.68958896e-01,  5.36300659e-01,  2.44411021e-01,\n",
              "        2.73950875e-01,  5.29497802e-01,  2.74567038e-01,  3.32348049e-01,\n",
              "        1.34123206e-01,  2.65634686e-01,  3.14786345e-01,  5.66692278e-03,\n",
              "        5.66672206e-01,  4.35724437e-01,  1.04513109e-01,  7.47646689e-01,\n",
              "       -9.96847078e-03,  4.90336537e-01,  7.39251792e-01, -6.97401762e-01,\n",
              "       -1.49819508e-01,  3.69603038e-01,  2.60536760e-01, -4.29215252e-01,\n",
              "        1.13343820e-02,  2.05700360e-02,  1.42536089e-01,  2.85418779e-01,\n",
              "       -3.54593724e-01, -2.14727134e-01, -8.94162059e-02,  3.04263592e-01,\n",
              "        3.42888348e-02, -1.43350251e-02, -2.81801820e-01, -1.77251786e-01,\n",
              "       -4.55005653e-02, -1.27207607e-01, -2.87543625e-01, -4.33540285e-01,\n",
              "       -4.48157758e-01, -2.37713426e-01, -1.60155267e-01,  9.19614881e-02,\n",
              "       -3.83936092e-02, -2.05203518e-01, -7.56723434e-02, -3.84924822e-02,\n",
              "        4.00316179e-01, -3.62449557e-01, -4.00384255e-02, -4.44968864e-02,\n",
              "        3.52990419e-01,  1.83510393e-01,  7.10208416e-01, -1.40866593e-01,\n",
              "        1.27369016e-01, -8.92185271e-02, -3.62545311e-01,  2.53722239e-02,\n",
              "       -1.59331977e-01,  1.50110751e-01,  1.10039607e-01,  2.44645655e-01,\n",
              "       -8.32928941e-02, -7.17313364e-02,  1.99044332e-01,  1.35420784e-01,\n",
              "       -4.72578228e-01, -1.59060121e-01, -1.77976489e-01, -5.39490730e-02,\n",
              "       -1.86455846e-02,  8.34118649e-02, -2.03100026e-01, -8.95130783e-02,\n",
              "       -2.25180283e-01, -1.87714905e-01,  1.69378966e-01, -7.40848780e-02,\n",
              "       -3.80809903e-01,  2.99509525e-01,  5.78762591e-01, -5.96569739e-02,\n",
              "       -2.41178468e-01,  6.74732998e-02, -5.71277067e-02,  3.49769592e-01,\n",
              "       -1.84113681e-01,  2.43534356e-01, -4.74271700e-02, -4.81784016e-01,\n",
              "       -1.42202467e-01,  2.01067701e-01, -3.78024995e-01,  4.82516997e-02,\n",
              "        1.45010382e-01,  3.87280971e-01, -1.00055441e-01,  6.70590103e-02,\n",
              "        6.33100152e-01,  9.54469293e-03, -1.77868918e-01, -2.38139987e-01,\n",
              "        1.74733847e-01, -3.20057213e-01, -1.50289506e-01, -6.21778183e-02,\n",
              "       -4.21172231e-02, -3.04947674e-01, -2.08089173e-01, -2.92076916e-01,\n",
              "        2.81019099e-02, -2.00973868e-01, -1.86331540e-01,  4.98037577e-01],\n",
              "      dtype=float32)"
            ]
          },
          "metadata": {},
          "execution_count": 73
        }
      ]
    },
    {
      "cell_type": "code",
      "source": [
        "# import os\n",
        "# import numpy as np\n",
        "# directory = 'embeddings_directory'\n",
        "# embedding_file_path = os.path.join(directory, 'embeddings.npy')\n",
        "# os.makedirs(directory, exist_ok=True)\n",
        "# np.save(embedding_file_path, embedding)\n",
        "# print(f\"Embeddings saved to {embedding_file_path}\")\n"
      ],
      "metadata": {
        "colab": {
          "base_uri": "https://localhost:8080/"
        },
        "collapsed": true,
        "id": "_MCErtOdpQR_",
        "outputId": "ee1b5e7d-83eb-4c4d-b4d3-707711b33e0d"
      },
      "execution_count": null,
      "outputs": [
        {
          "output_type": "stream",
          "name": "stdout",
          "text": [
            "Embeddings saved to embeddings_directory/embeddings.npy\n"
          ]
        }
      ]
    },
    {
      "cell_type": "code",
      "source": [
        "\n",
        "# loaded_embeddings = np.load(embedding_file_path)\n",
        "\n",
        "# print(loaded_embeddings)\n"
      ],
      "metadata": {
        "colab": {
          "base_uri": "https://localhost:8080/"
        },
        "collapsed": true,
        "id": "K9yOFtS-pT23",
        "outputId": "ebba435e-ec04-47c8-9d6e-bfdd368268c4"
      },
      "execution_count": null,
      "outputs": [
        {
          "output_type": "stream",
          "name": "stdout",
          "text": [
            "[-3.27564865e-01  2.20819354e-01 -3.61824781e-02 -8.13300908e-02\n",
            "  2.74749070e-01  1.38623506e-01  1.57642007e-01  2.14318037e-01\n",
            "  5.73212430e-02 -1.04807623e-01 -3.75961550e-02 -1.71600744e-01\n",
            " -3.84287655e-01  1.19442627e-01 -1.91683039e-01  3.97096753e-01\n",
            "  3.15688193e-01 -1.51466370e-01 -3.16043556e-01  3.46739888e-01\n",
            "  1.09640270e-01  2.56010234e-01 -8.09673667e-02  7.85538673e-01\n",
            "  3.24750543e-01 -2.03074023e-01 -1.08116306e-03 -1.75630525e-02\n",
            " -1.00397095e-01 -4.81513739e-02  5.59247255e-01  1.10456869e-01\n",
            " -1.56009704e-01 -4.54542100e-01 -8.21214318e-02  1.49039730e-01\n",
            " -2.83184230e-01 -3.00270498e-01 -7.41646141e-02  1.92612648e-01\n",
            " -4.60142970e-01 -2.24875540e-01 -2.08686858e-01  7.51166791e-02\n",
            " -2.42016286e-01 -1.58139452e-01  5.22551201e-02  1.51488185e-02\n",
            " -6.79209977e-02  1.56079829e-02 -8.34165394e-01  3.76807988e-01\n",
            " -5.93461357e-02  4.87736519e-03  7.37861171e-02  6.98171794e-01\n",
            "  1.07505769e-01 -3.42302740e-01 -3.19850564e-01 -3.54195774e-01\n",
            " -2.29466381e-03  9.61983725e-02  7.32201934e-02 -4.34945107e-01\n",
            "  1.44478649e-01  2.73214877e-01  5.53613529e-03  2.72273391e-01\n",
            " -7.36705244e-01 -1.51779681e-01 -4.72803593e-01 -8.46175104e-02\n",
            " -3.77406389e-01 -2.22989619e-02 -3.13447952e-01  2.57248767e-02\n",
            "  1.79458857e-01  3.49042743e-01 -5.69741353e-02 -6.49543554e-02\n",
            " -4.23276424e-01  4.27038044e-01 -1.57297388e-01  3.01717043e-01\n",
            "  3.22239816e-01  4.51236963e-04  3.63121256e-02  3.76382589e-01\n",
            " -3.68421495e-01  3.42872679e-01 -1.87158301e-01 -2.10500255e-01\n",
            "  9.60390940e-02  7.80315995e-02  4.11554098e-01  1.84954144e-02\n",
            "  2.02758521e-01  1.11256927e-01 -3.59678745e-01  2.49519706e-01\n",
            "  1.48886442e-01 -5.15489340e-01  3.33238721e-01  1.01225480e-01\n",
            "  2.32993569e-02 -5.00173029e-03  1.63909227e-01  9.49478447e-02\n",
            " -2.44723618e-01  2.67953724e-01  1.91330999e-01 -6.36125654e-02\n",
            " -1.12879887e-01 -4.63282615e-01 -4.00372408e-02 -8.58770683e-02\n",
            "  8.34687129e-02  8.37448388e-02 -2.65725348e-02  2.41622269e-01\n",
            "  1.35734141e-01 -7.72631764e-02 -1.70468390e-02  7.62492776e-01\n",
            " -1.68377623e-01 -7.85603002e-03  7.08251968e-02  2.28412390e-01\n",
            " -6.08412810e-02 -4.04835761e-01  2.86676764e-01  4.17808712e-01\n",
            "  3.45377088e-01 -1.38178796e-01 -4.34761941e-01  4.18048382e-01\n",
            " -4.62790318e-02 -1.71603411e-01 -5.74601948e-01  3.85060608e-01\n",
            "  1.74371582e-02 -6.35751426e-01  5.72152019e-01  4.16742824e-02\n",
            "  2.53675580e-01 -1.62770227e-01  9.88047291e-03 -1.43694878e-01\n",
            "  4.60543260e-02  2.68199027e-01  2.29229629e-01  8.50719362e-02\n",
            " -1.19997449e-01 -1.15237191e-01  3.01684644e-02  8.14831257e-03\n",
            " -5.33631682e-01  2.84354478e-01  8.80900770e-02  6.00645728e-02\n",
            "  1.37097076e-01 -2.43253231e-01 -4.01687682e-01  4.80332188e-02\n",
            " -1.14778653e-01 -6.61017150e-02  3.01404327e-01  5.14968991e-01\n",
            " -2.50900894e-01  4.27762926e-01 -3.52722257e-02 -2.06191361e-01\n",
            "  8.16578627e-01 -7.84670934e-04  1.91976056e-02  7.39953965e-02\n",
            "  1.15261182e-01  1.57281030e-02  5.25648773e-01  2.87196159e-01\n",
            " -9.08549786e-01  2.73610592e-01  7.01130778e-02 -1.89250186e-01\n",
            "  2.09793851e-01 -1.04149990e-01  5.05045533e-01 -4.06609952e-01\n",
            " -3.09825726e-02 -3.29698831e-01 -1.76824778e-01 -3.70893896e-01\n",
            " -3.81834298e-01 -2.61951312e-02  3.90890241e-01  9.46727172e-02\n",
            " -2.43084595e-01  2.48422623e-02 -5.60680747e-01 -2.90022623e-02\n",
            "  5.90116456e-02 -1.48122579e-01  5.18725067e-02  2.38885343e-01\n",
            "  3.42414156e-03 -8.69845390e-01  1.06912917e-02 -2.20542580e-01\n",
            " -3.47458392e-01 -8.33008997e-03 -3.23967993e-01  2.94051588e-01\n",
            " -8.98701549e-02  3.85215916e-02  1.24727078e-02  3.09331745e-01\n",
            " -3.19105566e-01  1.18869543e-01  1.36852324e-01 -1.57601267e-01\n",
            "  4.07509990e-02  1.19480237e-01 -5.97368240e-01  3.11908543e-01\n",
            "  1.20512955e-01  9.51020241e-01  2.28749499e-01 -4.93117183e-01\n",
            "  5.50344288e-01  4.98421729e-01  1.20160051e-01 -3.29805553e-01\n",
            "  7.12224603e-01 -2.37605974e-01 -2.82546520e-01 -1.47567600e-01\n",
            " -1.92869917e-01 -2.52107084e-01  2.28157416e-01 -2.20208883e-01\n",
            " -1.91119000e-01  5.49689293e-01  1.05075024e-01  1.33047193e-01\n",
            "  1.69616818e-01 -5.23239791e-01 -1.23284675e-01  1.71006203e-01\n",
            " -1.20217882e-01 -2.15366751e-01 -6.17139757e-01 -5.09680621e-02\n",
            " -4.89987433e-02 -3.36499929e-01 -8.80422741e-02 -1.76569641e-01\n",
            " -1.49370283e-01 -3.03024769e-01 -1.34725571e-02  3.66798878e-01\n",
            "  2.36214280e-01  2.26831555e-01 -1.06203426e-02  6.83339983e-02\n",
            " -1.11029156e-01 -7.23900318e-01 -1.77440792e-03  2.45155782e-01\n",
            "  4.76199210e-01  1.97240248e-01  2.55729675e-01 -3.20239067e-01\n",
            " -8.78413580e-03  6.79963827e-01 -4.77052122e-01 -4.70958054e-01\n",
            "  1.31940216e-01 -8.00578147e-02 -1.59201309e-01 -1.04698591e-01\n",
            "  1.17332667e-01  6.65175319e-01 -3.80157053e-01  2.02842914e-02\n",
            " -3.09621930e-01 -1.93497390e-01  1.79097548e-01 -6.28408641e-02\n",
            "  5.92009425e-02 -1.89054042e-01 -2.58211911e-01  1.88080609e-01\n",
            " -6.10113502e-01 -2.74662554e-01  4.83415946e-02  2.74420112e-01\n",
            "  3.47040802e-01 -7.46622309e-02  1.49157107e-01 -1.05268277e-01\n",
            " -2.91222721e-01 -5.37934065e-01  2.17599168e-01  2.34048307e-01\n",
            " -1.64969921e-01  6.31206930e-02  1.14549406e-01 -3.80645663e-01\n",
            " -2.99561357e+00  1.13943726e-01  3.43478143e-01 -2.16600955e-01\n",
            "  2.78912425e-01  2.69540220e-01 -1.27615444e-02 -1.13945670e-01\n",
            " -2.91126847e-01  1.20569438e-01 -3.50148320e-01 -4.17125762e-01\n",
            " -1.43655971e-01  5.73618293e-01  2.52335221e-01 -2.15085924e-01\n",
            " -4.71491367e-03 -4.66032326e-01 -1.40153617e-01  3.69497120e-01\n",
            " -3.46739180e-02 -5.15081584e-01 -4.87569273e-02 -4.35180999e-02\n",
            "  5.77591918e-02  3.51683348e-01 -4.05398041e-01 -2.08377093e-01\n",
            " -1.48088723e-01  1.89622343e-02  4.70564030e-02 -4.52130318e-01\n",
            " -4.51970771e-02  4.29624200e-01  1.20599762e-01  2.61277497e-01\n",
            "  3.68293934e-02 -2.99332976e-01 -1.85049493e-02 -3.77559930e-01\n",
            " -1.37453526e-01 -3.86319458e-01  2.65662745e-02 -2.10757047e-01\n",
            "  8.70736301e-01 -7.39192776e-03 -2.59446651e-02 -7.10847154e-02\n",
            "  1.60360232e-01 -7.19007552e-02  1.61813021e-01  2.34009594e-01\n",
            " -2.71262854e-01 -1.88797303e-02  3.59656289e-02 -3.16289663e-01\n",
            "  4.88539398e-01  1.72291219e-01 -5.21151759e-02 -2.52013654e-01\n",
            "  2.22934127e-01 -2.39180297e-01 -2.96892226e-01 -2.39871502e-01\n",
            " -4.58613522e-02 -4.76597428e-01 -8.00340772e-01 -2.23924994e-01\n",
            "  1.29003942e-01 -5.84015958e-02 -4.45922501e-02  6.06204093e-01\n",
            " -5.40439367e-01 -2.36208439e-01 -3.08976024e-02 -4.66865778e-01\n",
            "  2.96377420e-01 -4.49235141e-01  1.16643593e-01 -8.09250921e-02\n",
            " -1.61313966e-01 -6.31804824e-01 -1.32760674e-01 -3.39218020e-01\n",
            " -1.72604576e-01 -4.30720568e-01 -1.46743000e-01 -1.54487520e-01\n",
            " -4.16791499e-01 -6.58944726e-01  4.03693408e-01  2.34150499e-01\n",
            "  3.40599060e-01  8.45474750e-02  2.16663778e-01  1.60766691e-02\n",
            "  3.16022962e-01  6.24022353e-03  1.27095118e-01 -1.08050436e-01\n",
            " -4.37186882e-02 -4.37992588e-02  4.79547083e-01 -2.69508481e-01\n",
            "  1.90243348e-01  1.54179074e-02 -3.50750864e-01 -4.84863296e-03\n",
            "  3.68771374e-01  1.50999129e-01 -2.96926558e-01 -1.97625965e-01\n",
            "  3.86451781e-01 -4.21555758e-01 -1.16014026e-01  3.29836547e-01\n",
            "  1.69441387e-01  5.46517491e-01  1.34076238e-01 -3.54159236e-01\n",
            " -1.92316368e-01  2.85147756e-01 -8.43695402e-02 -1.14374578e-01\n",
            "  3.04671526e-01  3.15692350e-02 -1.55508935e-01  2.39507124e-01\n",
            "  7.86066502e-02 -1.15613356e-01 -2.13321090e-01 -3.92601863e-02\n",
            " -1.49206430e-01  4.59357709e-01  2.00329661e-01 -9.52983797e-02\n",
            " -1.39934152e-01 -4.06248271e-01 -2.15318769e-01  2.57109463e-01\n",
            "  2.63440549e-01  9.47061628e-02  2.20121592e-01 -4.15019035e-01\n",
            "  2.51634959e-02  3.80643070e-01  7.27769583e-02  1.01787589e-01\n",
            " -1.90314040e-01 -8.36418942e-03 -5.79728603e-01 -2.96187937e-01\n",
            " -2.08478719e-01 -2.88964272e-01  3.57767463e-01  3.01407576e-01\n",
            "  1.00252945e-02  1.98741853e-02  1.07809044e-02 -4.63809311e-01\n",
            "  3.09907049e-01  2.53876805e-01  2.70519078e-01 -8.92958045e-03\n",
            " -3.01878095e-01  4.40788120e-01 -1.86373606e-01 -1.48883194e-01\n",
            "  1.40294015e-01 -4.14491072e-03 -1.89986885e-01 -3.97179425e-01\n",
            "  1.97957188e-01 -4.48122740e-01 -1.12744644e-01  5.17052829e-01\n",
            "  2.47986600e-01 -2.35467061e-01 -4.54816282e-01  1.87529579e-01\n",
            " -5.63871227e-02 -2.03168601e-01 -2.86223710e-01 -1.06259249e-02\n",
            "  3.29040587e-01 -4.51636203e-02  3.44472796e-01 -2.38574356e-01\n",
            " -2.83082306e-01  2.47026719e-02  2.13774294e-02  6.15162849e-01\n",
            "  4.65451665e-02 -1.10076562e-01 -4.52718914e-01 -4.79360297e-02\n",
            "  2.06853405e-01  1.20145222e-02  2.73134783e-02 -7.46324956e-02\n",
            "  1.72447860e-01 -2.66976029e-01 -1.44747391e-01 -6.03774637e-02\n",
            "  3.27717185e-01 -2.75514871e-01 -9.82265472e-02  2.05279142e-01\n",
            " -1.38532296e-01  1.07461005e-01 -9.04740810e-01 -4.23178449e-02\n",
            " -1.41575128e-01 -2.23570108e-01  2.20633507e-01 -3.53986323e-01\n",
            "  1.10553075e-02 -1.01882018e-01 -5.13111651e-01  9.19747874e-02\n",
            " -8.00165609e-02 -1.05671138e-01 -5.62437512e-02 -2.53979489e-03\n",
            " -4.06942248e-01 -3.56415272e-01 -4.68470789e-02  1.11995123e-01\n",
            " -2.28110597e-01 -8.73208418e-02  8.89518857e-02 -1.09588552e+00\n",
            " -4.72813919e-02  1.49440169e-01 -1.08487405e-01  4.78637777e-03\n",
            " -3.72966453e-02 -4.71758008e-01 -6.36778772e-03 -3.88146996e-01\n",
            "  2.36208126e-01  2.35815704e-01 -2.29490325e-01  7.93174878e-02\n",
            "  3.51356745e-01  1.44304894e-02 -6.32544309e-02  3.77238959e-01\n",
            " -2.90065944e-01  1.86732724e-01 -8.89081955e-02  4.82789464e-02\n",
            " -1.68836698e-01 -3.70103456e-02  9.58655030e-02 -2.16057688e-01\n",
            " -3.72723460e-01 -2.11379394e-01 -1.13700628e-01 -8.48421305e-02\n",
            " -3.61746028e-02 -3.52586448e-01 -2.73425281e-01  8.92576873e-02\n",
            "  3.01766515e-01 -5.29509783e-02  1.35896921e-01  1.34491483e-02\n",
            "  3.61539930e-01 -4.22797173e-01  1.46941677e-01 -4.23182130e-01\n",
            " -1.33074641e-01  2.15520710e-02  4.27012108e-02  1.41921520e-01\n",
            "  2.54887640e-01 -9.82447565e-02  3.57541263e-01 -6.72188878e-01\n",
            " -3.20268452e-01  5.95915653e-02  2.56105177e-02 -3.34858865e-01\n",
            "  1.70243174e-01 -4.20331120e-01  1.95080549e-01  3.10147315e-01\n",
            "  3.34872156e-02 -2.76603162e-01  2.07972139e-01 -1.72462046e-01\n",
            "  1.09062180e-01  2.29742825e-01 -4.13106620e-01 -2.05645487e-01\n",
            "  6.61133409e-01  5.39946198e-01 -1.15440220e-01  9.37588513e-02\n",
            "  1.19746991e-01 -9.99901071e-03  2.60387808e-01 -1.28977364e-02\n",
            "  2.23632380e-02 -1.39525589e-02  1.91404670e-01 -4.67865616e-01\n",
            " -1.61873892e-01  4.34019938e-02 -1.83680952e-01 -2.99783140e-01\n",
            "  5.09738564e-01  9.80924368e-02 -4.56555188e-01 -1.20401837e-01\n",
            "  1.38500899e-01 -1.10663332e-01  4.82297838e-01  1.40316427e-01\n",
            " -5.90504780e-02  3.42070125e-02  3.95330280e-01 -1.59344882e-01\n",
            "  3.36340964e-01  4.55244184e-01 -1.08555801e-01 -1.75054342e-01\n",
            " -6.71187490e-02  4.17145759e-01  1.19111657e-01  4.68173414e-01\n",
            " -2.19098613e-01  5.78890860e-01 -5.37001267e-02 -9.66043174e-02\n",
            "  1.18355960e-01  7.17212260e-03  1.96166694e-01  1.88793875e-02\n",
            "  2.30104566e-01  2.86232289e-02  1.62125230e-01  5.60011268e-01\n",
            "  8.43658149e-02  2.68958896e-01  5.36300659e-01  2.44411021e-01\n",
            "  2.73950875e-01  5.29497802e-01  2.74567038e-01  3.32348049e-01\n",
            "  1.34123206e-01  2.65634686e-01  3.14786345e-01  5.66692278e-03\n",
            "  5.66672206e-01  4.35724437e-01  1.04513109e-01  7.47646689e-01\n",
            " -9.96847078e-03  4.90336537e-01  7.39251792e-01 -6.97401762e-01\n",
            " -1.49819508e-01  3.69603038e-01  2.60536760e-01 -4.29215252e-01\n",
            "  1.13343820e-02  2.05700360e-02  1.42536089e-01  2.85418779e-01\n",
            " -3.54593724e-01 -2.14727134e-01 -8.94162059e-02  3.04263592e-01\n",
            "  3.42888348e-02 -1.43350251e-02 -2.81801820e-01 -1.77251786e-01\n",
            " -4.55005653e-02 -1.27207607e-01 -2.87543625e-01 -4.33540285e-01\n",
            " -4.48157758e-01 -2.37713426e-01 -1.60155267e-01  9.19614881e-02\n",
            " -3.83936092e-02 -2.05203518e-01 -7.56723434e-02 -3.84924822e-02\n",
            "  4.00316179e-01 -3.62449557e-01 -4.00384255e-02 -4.44968864e-02\n",
            "  3.52990419e-01  1.83510393e-01  7.10208416e-01 -1.40866593e-01\n",
            "  1.27369016e-01 -8.92185271e-02 -3.62545311e-01  2.53722239e-02\n",
            " -1.59331977e-01  1.50110751e-01  1.10039607e-01  2.44645655e-01\n",
            " -8.32928941e-02 -7.17313364e-02  1.99044332e-01  1.35420784e-01\n",
            " -4.72578228e-01 -1.59060121e-01 -1.77976489e-01 -5.39490730e-02\n",
            " -1.86455846e-02  8.34118649e-02 -2.03100026e-01 -8.95130783e-02\n",
            " -2.25180283e-01 -1.87714905e-01  1.69378966e-01 -7.40848780e-02\n",
            " -3.80809903e-01  2.99509525e-01  5.78762591e-01 -5.96569739e-02\n",
            " -2.41178468e-01  6.74732998e-02 -5.71277067e-02  3.49769592e-01\n",
            " -1.84113681e-01  2.43534356e-01 -4.74271700e-02 -4.81784016e-01\n",
            " -1.42202467e-01  2.01067701e-01 -3.78024995e-01  4.82516997e-02\n",
            "  1.45010382e-01  3.87280971e-01 -1.00055441e-01  6.70590103e-02\n",
            "  6.33100152e-01  9.54469293e-03 -1.77868918e-01 -2.38139987e-01\n",
            "  1.74733847e-01 -3.20057213e-01 -1.50289506e-01 -6.21778183e-02\n",
            " -4.21172231e-02 -3.04947674e-01 -2.08089173e-01 -2.92076916e-01\n",
            "  2.81019099e-02 -2.00973868e-01 -1.86331540e-01  4.98037577e-01]\n"
          ]
        }
      ]
    },
    {
      "cell_type": "code",
      "source": [
        "# !pip install transformers torch numpy\n"
      ],
      "metadata": {
        "colab": {
          "base_uri": "https://localhost:8080/"
        },
        "collapsed": true,
        "id": "kV99J_3ItfFc",
        "outputId": "0fc32172-c190-4814-9e89-9bdb7f23ffed"
      },
      "execution_count": null,
      "outputs": [
        {
          "output_type": "stream",
          "name": "stdout",
          "text": [
            "Requirement already satisfied: transformers in /usr/local/lib/python3.10/dist-packages (4.42.4)\n",
            "Requirement already satisfied: torch in /usr/local/lib/python3.10/dist-packages (2.3.1+cu121)\n",
            "Requirement already satisfied: numpy in /usr/local/lib/python3.10/dist-packages (1.26.4)\n",
            "Requirement already satisfied: filelock in /usr/local/lib/python3.10/dist-packages (from transformers) (3.15.4)\n",
            "Requirement already satisfied: huggingface-hub<1.0,>=0.23.2 in /usr/local/lib/python3.10/dist-packages (from transformers) (0.23.5)\n",
            "Requirement already satisfied: packaging>=20.0 in /usr/local/lib/python3.10/dist-packages (from transformers) (24.1)\n",
            "Requirement already satisfied: pyyaml>=5.1 in /usr/local/lib/python3.10/dist-packages (from transformers) (6.0.1)\n",
            "Requirement already satisfied: regex!=2019.12.17 in /usr/local/lib/python3.10/dist-packages (from transformers) (2024.5.15)\n",
            "Requirement already satisfied: requests in /usr/local/lib/python3.10/dist-packages (from transformers) (2.31.0)\n",
            "Requirement already satisfied: safetensors>=0.4.1 in /usr/local/lib/python3.10/dist-packages (from transformers) (0.4.3)\n",
            "Requirement already satisfied: tokenizers<0.20,>=0.19 in /usr/local/lib/python3.10/dist-packages (from transformers) (0.19.1)\n",
            "Requirement already satisfied: tqdm>=4.27 in /usr/local/lib/python3.10/dist-packages (from transformers) (4.66.4)\n",
            "Requirement already satisfied: typing-extensions>=4.8.0 in /usr/local/lib/python3.10/dist-packages (from torch) (4.12.2)\n",
            "Requirement already satisfied: sympy in /usr/local/lib/python3.10/dist-packages (from torch) (1.13.1)\n",
            "Requirement already satisfied: networkx in /usr/local/lib/python3.10/dist-packages (from torch) (3.3)\n",
            "Requirement already satisfied: jinja2 in /usr/local/lib/python3.10/dist-packages (from torch) (3.1.4)\n",
            "Requirement already satisfied: fsspec in /usr/local/lib/python3.10/dist-packages (from torch) (2024.6.1)\n",
            "Collecting nvidia-cuda-nvrtc-cu12==12.1.105 (from torch)\n",
            "  Using cached nvidia_cuda_nvrtc_cu12-12.1.105-py3-none-manylinux1_x86_64.whl.metadata (1.5 kB)\n",
            "Collecting nvidia-cuda-runtime-cu12==12.1.105 (from torch)\n",
            "  Using cached nvidia_cuda_runtime_cu12-12.1.105-py3-none-manylinux1_x86_64.whl.metadata (1.5 kB)\n",
            "Collecting nvidia-cuda-cupti-cu12==12.1.105 (from torch)\n",
            "  Using cached nvidia_cuda_cupti_cu12-12.1.105-py3-none-manylinux1_x86_64.whl.metadata (1.6 kB)\n",
            "Collecting nvidia-cudnn-cu12==8.9.2.26 (from torch)\n",
            "  Using cached nvidia_cudnn_cu12-8.9.2.26-py3-none-manylinux1_x86_64.whl.metadata (1.6 kB)\n",
            "Collecting nvidia-cublas-cu12==12.1.3.1 (from torch)\n",
            "  Using cached nvidia_cublas_cu12-12.1.3.1-py3-none-manylinux1_x86_64.whl.metadata (1.5 kB)\n",
            "Collecting nvidia-cufft-cu12==11.0.2.54 (from torch)\n",
            "  Using cached nvidia_cufft_cu12-11.0.2.54-py3-none-manylinux1_x86_64.whl.metadata (1.5 kB)\n",
            "Collecting nvidia-curand-cu12==10.3.2.106 (from torch)\n",
            "  Using cached nvidia_curand_cu12-10.3.2.106-py3-none-manylinux1_x86_64.whl.metadata (1.5 kB)\n",
            "Collecting nvidia-cusolver-cu12==11.4.5.107 (from torch)\n",
            "  Using cached nvidia_cusolver_cu12-11.4.5.107-py3-none-manylinux1_x86_64.whl.metadata (1.6 kB)\n",
            "Collecting nvidia-cusparse-cu12==12.1.0.106 (from torch)\n",
            "  Using cached nvidia_cusparse_cu12-12.1.0.106-py3-none-manylinux1_x86_64.whl.metadata (1.6 kB)\n",
            "Collecting nvidia-nccl-cu12==2.20.5 (from torch)\n",
            "  Using cached nvidia_nccl_cu12-2.20.5-py3-none-manylinux2014_x86_64.whl.metadata (1.8 kB)\n",
            "Collecting nvidia-nvtx-cu12==12.1.105 (from torch)\n",
            "  Using cached nvidia_nvtx_cu12-12.1.105-py3-none-manylinux1_x86_64.whl.metadata (1.7 kB)\n",
            "Requirement already satisfied: triton==2.3.1 in /usr/local/lib/python3.10/dist-packages (from torch) (2.3.1)\n",
            "Collecting nvidia-nvjitlink-cu12 (from nvidia-cusolver-cu12==11.4.5.107->torch)\n",
            "  Downloading nvidia_nvjitlink_cu12-12.6.20-py3-none-manylinux2014_x86_64.whl.metadata (1.5 kB)\n",
            "Requirement already satisfied: MarkupSafe>=2.0 in /usr/local/lib/python3.10/dist-packages (from jinja2->torch) (2.1.5)\n",
            "Requirement already satisfied: charset-normalizer<4,>=2 in /usr/local/lib/python3.10/dist-packages (from requests->transformers) (3.3.2)\n",
            "Requirement already satisfied: idna<4,>=2.5 in /usr/local/lib/python3.10/dist-packages (from requests->transformers) (3.7)\n",
            "Requirement already satisfied: urllib3<3,>=1.21.1 in /usr/local/lib/python3.10/dist-packages (from requests->transformers) (2.0.7)\n",
            "Requirement already satisfied: certifi>=2017.4.17 in /usr/local/lib/python3.10/dist-packages (from requests->transformers) (2024.7.4)\n",
            "Requirement already satisfied: mpmath<1.4,>=1.1.0 in /usr/local/lib/python3.10/dist-packages (from sympy->torch) (1.3.0)\n",
            "Using cached nvidia_cublas_cu12-12.1.3.1-py3-none-manylinux1_x86_64.whl (410.6 MB)\n",
            "Using cached nvidia_cuda_cupti_cu12-12.1.105-py3-none-manylinux1_x86_64.whl (14.1 MB)\n",
            "Using cached nvidia_cuda_nvrtc_cu12-12.1.105-py3-none-manylinux1_x86_64.whl (23.7 MB)\n",
            "Using cached nvidia_cuda_runtime_cu12-12.1.105-py3-none-manylinux1_x86_64.whl (823 kB)\n",
            "Using cached nvidia_cudnn_cu12-8.9.2.26-py3-none-manylinux1_x86_64.whl (731.7 MB)\n",
            "Using cached nvidia_cufft_cu12-11.0.2.54-py3-none-manylinux1_x86_64.whl (121.6 MB)\n",
            "Using cached nvidia_curand_cu12-10.3.2.106-py3-none-manylinux1_x86_64.whl (56.5 MB)\n",
            "Using cached nvidia_cusolver_cu12-11.4.5.107-py3-none-manylinux1_x86_64.whl (124.2 MB)\n",
            "Using cached nvidia_cusparse_cu12-12.1.0.106-py3-none-manylinux1_x86_64.whl (196.0 MB)\n",
            "Using cached nvidia_nccl_cu12-2.20.5-py3-none-manylinux2014_x86_64.whl (176.2 MB)\n",
            "Using cached nvidia_nvtx_cu12-12.1.105-py3-none-manylinux1_x86_64.whl (99 kB)\n",
            "Downloading nvidia_nvjitlink_cu12-12.6.20-py3-none-manylinux2014_x86_64.whl (19.7 MB)\n",
            "\u001b[2K   \u001b[90m━━━━━━━━━━━━━━━━━━━━━━━━━━━━━━━━━━━━━━━━\u001b[0m \u001b[32m19.7/19.7 MB\u001b[0m \u001b[31m15.6 MB/s\u001b[0m eta \u001b[36m0:00:00\u001b[0m\n",
            "\u001b[?25hInstalling collected packages: nvidia-nvtx-cu12, nvidia-nvjitlink-cu12, nvidia-nccl-cu12, nvidia-curand-cu12, nvidia-cufft-cu12, nvidia-cuda-runtime-cu12, nvidia-cuda-nvrtc-cu12, nvidia-cuda-cupti-cu12, nvidia-cublas-cu12, nvidia-cusparse-cu12, nvidia-cudnn-cu12, nvidia-cusolver-cu12\n",
            "Successfully installed nvidia-cublas-cu12-12.1.3.1 nvidia-cuda-cupti-cu12-12.1.105 nvidia-cuda-nvrtc-cu12-12.1.105 nvidia-cuda-runtime-cu12-12.1.105 nvidia-cudnn-cu12-8.9.2.26 nvidia-cufft-cu12-11.0.2.54 nvidia-curand-cu12-10.3.2.106 nvidia-cusolver-cu12-11.4.5.107 nvidia-cusparse-cu12-12.1.0.106 nvidia-nccl-cu12-2.20.5 nvidia-nvjitlink-cu12-12.6.20 nvidia-nvtx-cu12-12.1.105\n"
          ]
        }
      ]
    },
    {
      "cell_type": "code",
      "source": [
        "# import numpy as np\n",
        "# from transformers import AutoTokenizer, AutoModel\n",
        "# from sklearn.metrics.pairwise import cosine_similarity\n",
        "# import os\n"
      ],
      "metadata": {
        "id": "ahmpP3aXuAyA"
      },
      "execution_count": null,
      "outputs": []
    },
    {
      "cell_type": "code",
      "source": [
        "# tokenizer = AutoTokenizer.from_pretrained('bert-base-uncased')\n",
        "# model = AutoModel.from_pretrained('bert-base-uncased')"
      ],
      "metadata": {
        "id": "ZonWs9lNuZGf"
      },
      "execution_count": null,
      "outputs": []
    },
    {
      "cell_type": "code",
      "source": [
        "# def get_embeddings(text):\n",
        "#     inputs = tokenizer(text, return_tensors='pt', truncation=True, padding=True)\n",
        "#     with torch.no_grad():\n",
        "#         outputs = model(**inputs)\n",
        "#     embeddings = outputs.last_hidden_state.mean(dim=1).squeeze().numpy()\n",
        "#     return embeddings"
      ],
      "metadata": {
        "id": "Y0O5L94Vuc6G"
      },
      "execution_count": null,
      "outputs": []
    },
    {
      "cell_type": "code",
      "source": [
        "# def load_embeddings(directory='embeddings_directory', filename='embeddings.npy'):\n",
        "#     file_path = os.path.join(directory, filename)\n",
        "#     return np.load(file_path)"
      ],
      "metadata": {
        "id": "wXGSmlWAu6IS"
      },
      "execution_count": null,
      "outputs": []
    },
    {
      "cell_type": "code",
      "source": [
        "# def load_context_texts(directory='embeddings_directory', filename='context_texts.txt'):\n",
        "#     file_path = os.path.join(directory, filename)\n",
        "#     if not os.path.exists(file_path):\n",
        "#         raise FileNotFoundError(f\"The file {file_path} does not exist.\")\n",
        "#     with open(file_path, 'r') as file:\n",
        "#         context_texts = file.readlines()\n",
        "#     context_texts = [text.strip() for text in context_texts]\n",
        "#     return context_texts"
      ],
      "metadata": {
        "id": "L0wLd4762Q7v"
      },
      "execution_count": null,
      "outputs": []
    },
    {
      "cell_type": "code",
      "source": [
        "# def generate_context_texts_from_embeddings(directory='embeddings_directory', embeddings_filename='embeddings.npy', contexts_filename='context_texts.txt'):\n",
        "#     embeddings_file_path = os.path.join(directory, embeddings_filename)\n",
        "\n",
        "#     if not os.path.exists(embeddings_file_path):\n",
        "#         raise FileNotFoundError(f\"The file {embeddings_file_path} does not exist.\")\n",
        "\n",
        "#     embeddings = np.load(embeddings_file_path)\n",
        "\n",
        "#     # Create a dummy context for each embedding if no actual context is available\n",
        "#     context_texts = [f\"Context for embedding {i}\" for i in range(embeddings.shape[0])]\n",
        "\n",
        "#     # Save context_texts to a file\n",
        "#     contexts_file_path = os.path.join(directory, contexts_filename)\n",
        "#     with open(contexts_file_path, 'w') as file:\n",
        "#         for context in context_texts:\n",
        "#             file.write(context + '\\n')\n",
        "\n",
        "#     return contexts_file_path\n",
        "\n",
        "# def find_most_similar(user_input, embeddings, context_texts):\n",
        "#     user_input_embedding = get_embeddings(user_input)\n",
        "\n",
        "#     # Reshape user_input_embedding to be 2D for cosine_similarity\n",
        "#     user_input_embedding = user_input_embedding.reshape(1, -1)\n",
        "\n",
        "#     # Compute similarity\n",
        "#     similarities = cosine_similarity(user_input_embedding, embeddings)\n",
        "\n",
        "#     # Find the most similar context\n",
        "#     most_similar_index = np.argmax(similarities)\n",
        "\n",
        "#     return context_texts[most_similar_index]\n"
      ],
      "metadata": {
        "id": "n6GWgZKny2zi"
      },
      "execution_count": null,
      "outputs": []
    },
    {
      "cell_type": "code",
      "source": [
        "!pip install fpdf2\n"
      ],
      "metadata": {
        "colab": {
          "base_uri": "https://localhost:8080/"
        },
        "id": "2KN-QGi44WCa",
        "outputId": "81510ba2-fdd0-4862-a8a8-805b91e583c5"
      },
      "execution_count": null,
      "outputs": [
        {
          "output_type": "stream",
          "name": "stdout",
          "text": [
            "Requirement already satisfied: fpdf2 in /usr/local/lib/python3.10/dist-packages (2.7.9)\n",
            "Requirement already satisfied: defusedxml in /usr/local/lib/python3.10/dist-packages (from fpdf2) (0.7.1)\n",
            "Requirement already satisfied: Pillow!=9.2.*,>=6.2.2 in /usr/local/lib/python3.10/dist-packages (from fpdf2) (9.4.0)\n",
            "Requirement already satisfied: fonttools>=4.34.0 in /usr/local/lib/python3.10/dist-packages (from fpdf2) (4.53.1)\n"
          ]
        }
      ]
    },
    {
      "cell_type": "code",
      "source": [
        "type(data_text)"
      ],
      "metadata": {
        "colab": {
          "base_uri": "https://localhost:8080/"
        },
        "id": "p7Zx5Zewr4Am",
        "outputId": "a579975d-a378-49ee-e7d5-249917cd38d5"
      },
      "execution_count": null,
      "outputs": [
        {
          "output_type": "execute_result",
          "data": {
            "text/plain": [
              "str"
            ]
          },
          "metadata": {},
          "execution_count": 15
        }
      ]
    },
    {
      "cell_type": "code",
      "source": [
        "!pip install langchain"
      ],
      "metadata": {
        "colab": {
          "base_uri": "https://localhost:8080/"
        },
        "id": "V7tsgt6FsZJb",
        "outputId": "a36e0da4-0127-428d-f196-66814e31674c"
      },
      "execution_count": null,
      "outputs": [
        {
          "output_type": "stream",
          "name": "stdout",
          "text": [
            "Requirement already satisfied: langchain in /usr/local/lib/python3.10/dist-packages (0.2.12)\n",
            "Requirement already satisfied: PyYAML>=5.3 in /usr/local/lib/python3.10/dist-packages (from langchain) (6.0.1)\n",
            "Requirement already satisfied: SQLAlchemy<3,>=1.4 in /usr/local/lib/python3.10/dist-packages (from langchain) (2.0.31)\n",
            "Requirement already satisfied: aiohttp<4.0.0,>=3.8.3 in /usr/local/lib/python3.10/dist-packages (from langchain) (3.9.5)\n",
            "Requirement already satisfied: async-timeout<5.0.0,>=4.0.0 in /usr/local/lib/python3.10/dist-packages (from langchain) (4.0.3)\n",
            "Requirement already satisfied: langchain-core<0.3.0,>=0.2.27 in /usr/local/lib/python3.10/dist-packages (from langchain) (0.2.28)\n",
            "Requirement already satisfied: langchain-text-splitters<0.3.0,>=0.2.0 in /usr/local/lib/python3.10/dist-packages (from langchain) (0.2.2)\n",
            "Requirement already satisfied: langsmith<0.2.0,>=0.1.17 in /usr/local/lib/python3.10/dist-packages (from langchain) (0.1.96)\n",
            "Requirement already satisfied: numpy<2,>=1 in /usr/local/lib/python3.10/dist-packages (from langchain) (1.26.4)\n",
            "Requirement already satisfied: pydantic<3,>=1 in /usr/local/lib/python3.10/dist-packages (from langchain) (2.8.2)\n",
            "Requirement already satisfied: requests<3,>=2 in /usr/local/lib/python3.10/dist-packages (from langchain) (2.31.0)\n",
            "Requirement already satisfied: tenacity!=8.4.0,<9.0.0,>=8.1.0 in /usr/local/lib/python3.10/dist-packages (from langchain) (8.5.0)\n",
            "Requirement already satisfied: aiosignal>=1.1.2 in /usr/local/lib/python3.10/dist-packages (from aiohttp<4.0.0,>=3.8.3->langchain) (1.3.1)\n",
            "Requirement already satisfied: attrs>=17.3.0 in /usr/local/lib/python3.10/dist-packages (from aiohttp<4.0.0,>=3.8.3->langchain) (23.2.0)\n",
            "Requirement already satisfied: frozenlist>=1.1.1 in /usr/local/lib/python3.10/dist-packages (from aiohttp<4.0.0,>=3.8.3->langchain) (1.4.1)\n",
            "Requirement already satisfied: multidict<7.0,>=4.5 in /usr/local/lib/python3.10/dist-packages (from aiohttp<4.0.0,>=3.8.3->langchain) (6.0.5)\n",
            "Requirement already satisfied: yarl<2.0,>=1.0 in /usr/local/lib/python3.10/dist-packages (from aiohttp<4.0.0,>=3.8.3->langchain) (1.9.4)\n",
            "Requirement already satisfied: jsonpatch<2.0,>=1.33 in /usr/local/lib/python3.10/dist-packages (from langchain-core<0.3.0,>=0.2.27->langchain) (1.33)\n",
            "Requirement already satisfied: packaging<25,>=23.2 in /usr/local/lib/python3.10/dist-packages (from langchain-core<0.3.0,>=0.2.27->langchain) (24.1)\n",
            "Requirement already satisfied: typing-extensions>=4.7 in /usr/local/lib/python3.10/dist-packages (from langchain-core<0.3.0,>=0.2.27->langchain) (4.12.2)\n",
            "Requirement already satisfied: orjson<4.0.0,>=3.9.14 in /usr/local/lib/python3.10/dist-packages (from langsmith<0.2.0,>=0.1.17->langchain) (3.10.6)\n",
            "Requirement already satisfied: annotated-types>=0.4.0 in /usr/local/lib/python3.10/dist-packages (from pydantic<3,>=1->langchain) (0.7.0)\n",
            "Requirement already satisfied: pydantic-core==2.20.1 in /usr/local/lib/python3.10/dist-packages (from pydantic<3,>=1->langchain) (2.20.1)\n",
            "Requirement already satisfied: charset-normalizer<4,>=2 in /usr/local/lib/python3.10/dist-packages (from requests<3,>=2->langchain) (3.3.2)\n",
            "Requirement already satisfied: idna<4,>=2.5 in /usr/local/lib/python3.10/dist-packages (from requests<3,>=2->langchain) (3.7)\n",
            "Requirement already satisfied: urllib3<3,>=1.21.1 in /usr/local/lib/python3.10/dist-packages (from requests<3,>=2->langchain) (2.0.7)\n",
            "Requirement already satisfied: certifi>=2017.4.17 in /usr/local/lib/python3.10/dist-packages (from requests<3,>=2->langchain) (2024.7.4)\n",
            "Requirement already satisfied: greenlet!=0.4.17 in /usr/local/lib/python3.10/dist-packages (from SQLAlchemy<3,>=1.4->langchain) (3.0.3)\n",
            "Requirement already satisfied: jsonpointer>=1.9 in /usr/local/lib/python3.10/dist-packages (from jsonpatch<2.0,>=1.33->langchain-core<0.3.0,>=0.2.27->langchain) (3.0.0)\n"
          ]
        }
      ]
    },
    {
      "cell_type": "code",
      "source": [
        "!pip install langchain_community\n"
      ],
      "metadata": {
        "colab": {
          "base_uri": "https://localhost:8080/"
        },
        "id": "evmcqcNQxh-v",
        "outputId": "c029589f-8570-46ce-d688-a07cf3dde599"
      },
      "execution_count": null,
      "outputs": [
        {
          "output_type": "stream",
          "name": "stdout",
          "text": [
            "Requirement already satisfied: langchain_community in /usr/local/lib/python3.10/dist-packages (0.2.11)\n",
            "Requirement already satisfied: PyYAML>=5.3 in /usr/local/lib/python3.10/dist-packages (from langchain_community) (6.0.1)\n",
            "Requirement already satisfied: SQLAlchemy<3,>=1.4 in /usr/local/lib/python3.10/dist-packages (from langchain_community) (2.0.31)\n",
            "Requirement already satisfied: aiohttp<4.0.0,>=3.8.3 in /usr/local/lib/python3.10/dist-packages (from langchain_community) (3.9.5)\n",
            "Requirement already satisfied: dataclasses-json<0.7,>=0.5.7 in /usr/local/lib/python3.10/dist-packages (from langchain_community) (0.6.7)\n",
            "Requirement already satisfied: langchain<0.3.0,>=0.2.12 in /usr/local/lib/python3.10/dist-packages (from langchain_community) (0.2.12)\n",
            "Requirement already satisfied: langchain-core<0.3.0,>=0.2.27 in /usr/local/lib/python3.10/dist-packages (from langchain_community) (0.2.28)\n",
            "Requirement already satisfied: langsmith<0.2.0,>=0.1.0 in /usr/local/lib/python3.10/dist-packages (from langchain_community) (0.1.96)\n",
            "Requirement already satisfied: numpy<2,>=1 in /usr/local/lib/python3.10/dist-packages (from langchain_community) (1.26.4)\n",
            "Requirement already satisfied: requests<3,>=2 in /usr/local/lib/python3.10/dist-packages (from langchain_community) (2.31.0)\n",
            "Requirement already satisfied: tenacity!=8.4.0,<9.0.0,>=8.1.0 in /usr/local/lib/python3.10/dist-packages (from langchain_community) (8.5.0)\n",
            "Requirement already satisfied: aiosignal>=1.1.2 in /usr/local/lib/python3.10/dist-packages (from aiohttp<4.0.0,>=3.8.3->langchain_community) (1.3.1)\n",
            "Requirement already satisfied: attrs>=17.3.0 in /usr/local/lib/python3.10/dist-packages (from aiohttp<4.0.0,>=3.8.3->langchain_community) (23.2.0)\n",
            "Requirement already satisfied: frozenlist>=1.1.1 in /usr/local/lib/python3.10/dist-packages (from aiohttp<4.0.0,>=3.8.3->langchain_community) (1.4.1)\n",
            "Requirement already satisfied: multidict<7.0,>=4.5 in /usr/local/lib/python3.10/dist-packages (from aiohttp<4.0.0,>=3.8.3->langchain_community) (6.0.5)\n",
            "Requirement already satisfied: yarl<2.0,>=1.0 in /usr/local/lib/python3.10/dist-packages (from aiohttp<4.0.0,>=3.8.3->langchain_community) (1.9.4)\n",
            "Requirement already satisfied: async-timeout<5.0,>=4.0 in /usr/local/lib/python3.10/dist-packages (from aiohttp<4.0.0,>=3.8.3->langchain_community) (4.0.3)\n",
            "Requirement already satisfied: marshmallow<4.0.0,>=3.18.0 in /usr/local/lib/python3.10/dist-packages (from dataclasses-json<0.7,>=0.5.7->langchain_community) (3.21.3)\n",
            "Requirement already satisfied: typing-inspect<1,>=0.4.0 in /usr/local/lib/python3.10/dist-packages (from dataclasses-json<0.7,>=0.5.7->langchain_community) (0.9.0)\n",
            "Requirement already satisfied: langchain-text-splitters<0.3.0,>=0.2.0 in /usr/local/lib/python3.10/dist-packages (from langchain<0.3.0,>=0.2.12->langchain_community) (0.2.2)\n",
            "Requirement already satisfied: pydantic<3,>=1 in /usr/local/lib/python3.10/dist-packages (from langchain<0.3.0,>=0.2.12->langchain_community) (2.8.2)\n",
            "Requirement already satisfied: jsonpatch<2.0,>=1.33 in /usr/local/lib/python3.10/dist-packages (from langchain-core<0.3.0,>=0.2.27->langchain_community) (1.33)\n",
            "Requirement already satisfied: packaging<25,>=23.2 in /usr/local/lib/python3.10/dist-packages (from langchain-core<0.3.0,>=0.2.27->langchain_community) (24.1)\n",
            "Requirement already satisfied: typing-extensions>=4.7 in /usr/local/lib/python3.10/dist-packages (from langchain-core<0.3.0,>=0.2.27->langchain_community) (4.12.2)\n",
            "Requirement already satisfied: orjson<4.0.0,>=3.9.14 in /usr/local/lib/python3.10/dist-packages (from langsmith<0.2.0,>=0.1.0->langchain_community) (3.10.6)\n",
            "Requirement already satisfied: charset-normalizer<4,>=2 in /usr/local/lib/python3.10/dist-packages (from requests<3,>=2->langchain_community) (3.3.2)\n",
            "Requirement already satisfied: idna<4,>=2.5 in /usr/local/lib/python3.10/dist-packages (from requests<3,>=2->langchain_community) (3.7)\n",
            "Requirement already satisfied: urllib3<3,>=1.21.1 in /usr/local/lib/python3.10/dist-packages (from requests<3,>=2->langchain_community) (2.0.7)\n",
            "Requirement already satisfied: certifi>=2017.4.17 in /usr/local/lib/python3.10/dist-packages (from requests<3,>=2->langchain_community) (2024.7.4)\n",
            "Requirement already satisfied: greenlet!=0.4.17 in /usr/local/lib/python3.10/dist-packages (from SQLAlchemy<3,>=1.4->langchain_community) (3.0.3)\n",
            "Requirement already satisfied: jsonpointer>=1.9 in /usr/local/lib/python3.10/dist-packages (from jsonpatch<2.0,>=1.33->langchain-core<0.3.0,>=0.2.27->langchain_community) (3.0.0)\n",
            "Requirement already satisfied: annotated-types>=0.4.0 in /usr/local/lib/python3.10/dist-packages (from pydantic<3,>=1->langchain<0.3.0,>=0.2.12->langchain_community) (0.7.0)\n",
            "Requirement already satisfied: pydantic-core==2.20.1 in /usr/local/lib/python3.10/dist-packages (from pydantic<3,>=1->langchain<0.3.0,>=0.2.12->langchain_community) (2.20.1)\n",
            "Requirement already satisfied: mypy-extensions>=0.3.0 in /usr/local/lib/python3.10/dist-packages (from typing-inspect<1,>=0.4.0->dataclasses-json<0.7,>=0.5.7->langchain_community) (1.0.0)\n"
          ]
        }
      ]
    },
    {
      "cell_type": "code",
      "source": [
        "from langchain import PromptTemplate\n",
        "from langchain.chains.question_answering import load_qa_chain\n",
        "from langchain.text_splitter import CharacterTextSplitter\n",
        "from langchain.vectorstores import Chroma\n",
        "\n"
      ],
      "metadata": {
        "id": "KJywQr76wf8G"
      },
      "execution_count": null,
      "outputs": []
    },
    {
      "cell_type": "code",
      "source": [
        "text_splitter = CharacterTextSplitter(chunk_size=100, chunk_overlap=20)\n",
        "texts = text_splitter.split_text(data_text)\n",
        "\n"
      ],
      "metadata": {
        "id": "1Te3E-3cxfKw"
      },
      "execution_count": null,
      "outputs": []
    },
    {
      "cell_type": "code",
      "source": [
        "texts"
      ],
      "metadata": {
        "colab": {
          "base_uri": "https://localhost:8080/"
        },
        "collapsed": true,
        "id": "KN4ndME8yNaR",
        "outputId": "a4bdd7d4-bd0a-4cf8-99db-f25f322a1f15"
      },
      "execution_count": null,
      "outputs": [
        {
          "output_type": "execute_result",
          "data": {
            "text/plain": [
              "['machine learning (ml) is a field of study in artificial intelligence concerned with the development and study of statistical algorithms that can learn from data and generalize to unseen data and thus perform tasks without explicit instructions. recently, artificial neural networks have been able to surpass many previous approaches in performance. ml finds application in many fields, including natural language processing, computer vision, speech recognition, email filtering, agriculture, and medicine. when applied to business problems, it is known under the name predictive analytics. although not all machine learning is statistically based, computational statistics is an important source of the field\\'s methods. the mathematical foundations of ml are provided by mathematical optimization (mathematical programming) methods. data mining is a related (parallel) field of study, focusing on exploratory data analysis (eda) through unsupervised learning. from a theoretical viewpoint, probably approximately correct (pac) learning provides a framework for describing machine learning. the term machine learning was coined in 1959 by arthur samuel, an ibm employee and pioneer in the field of computer gaming and artificial intelligence. the synonym self-teaching computers was also used in this time period. although the earliest machine learning model was introduced in the 1950s when arthur samuel invented a program that calculated the winning chance in checkers for each side, the history of machine learning roots back to decades of human desire and effort to study human cognitive processes. in 1949, canadian psychologist donald hebb published the book the organization of behavior, in which he introduced a theoretical neural structure formed by certain interactions among nerve cells. hebb\\'s model of neurons interacting with one another set a groundwork for how ais and machine learning algorithms work under nodes, or artificial neurons used by computers to communicate data. other researchers who have studied human cognitive systems contributed to the modern machine learning technologies as well, including logician walter pitts and warren mcculloch, who proposed the early mathematical models of neural networks to come up with algorithms that mirror human thought processes. by the early 1960s an experimental \"learning machine\" with punched tape memory, called cybertron, had been developed by raytheon company to analyze sonar signals, electrocardiograms, and speech patterns using rudimentary reinforcement learning. it was repetitively \"trained\" by a human operator/teacher to recognize patterns and equipped with a \"goof\" button to cause it to reevaluate incorrect decisions. a representative book on research into machine learning during the 1960s was nilsson\\'s book on learning machines, dealing mostly with machine learning for pattern classification. interest related to pattern recognition continued into the 1970s, as described by duda and hart in 1973. in 1981 a report was given on using teaching strategies so that an artificial neural network learns to recognize 40 characters (26 letters, 10 digits, and 4 special symbols) from a computer terminal. tom m. mitchell provided a widely quoted, more formal definition of the algorithms studied in the machine learning field: \"a computer program is said to learn from experience e with respect to some class of tasks t and performance measure p if its performance at tasks in t, as measured by p, improves with experience e.\" this definition of the tasks in which machine learning is concerned offers a fundamentally operational definition rather than defining the field in cognitive terms. this follows alan turing\\'s proposal in his paper \"computing machinery and intelligence\", in which the question \"can machines think?\" is replaced with the question \"can machines do what we (as thinking entities) can do?\". modern-day machine learning has two objectives. one is to classify data based on models which have been developed; the other purpose is to make predictions for future outcomes based on these models. a hypothetical algorithm specific to classifying data may use computer vision of moles coupled with supervised learning in order to train it to classify the cancerous moles. a machine learning algorithm for stock trading may inform the trader of future potential predictions. as a scientific endeavor, machine learning grew out of the quest for artificial intelligence (ai). in the early days of ai as an academic discipline, some researchers were interested in having machines learn from data. they attempted to approach the problem with various symbolic methods, as well as what were then termed \"neural networks\"; these were mostly perceptrons and other models that were later found to be reinventions of the generalized linear models of statistics. probabilistic reasoning was also employed, especially in automated medical diagnosis. : 488 however, an increasing emphasis on the logical, knowledge-based approach caused a rift between ai and machine learning. probabilistic systems were plagued by theoretical and practical problems of data acquisition and representation. : 488 by 1980, expert systems had come to dominate ai, and statistics was out of favor. work on symbolic/knowledge-based learning did continue within ai, leading to inductive logic programming(ilp), but the more statistical line of research was now outside the field of ai proper, in pattern recognition and information retrieval. : 708–710, 755 neural networks research had been abandoned by ai and computer science around the same time. this line, too, was continued outside the ai/cs field, as \"connectionism\", by researchers from other disciplines including hopfield, rumelhart, and hinton. their main success came in the mid-1980s with the reinvention of backpropagation. : 25 machine learning (ml), reorganized and recognized as its own field, started to flourish in the 1990s. the field changed its goal from achieving artificial intelligence to tackling solvable problems of a practical nature. it shifted focus away from the symbolic approaches it had inherited from ai, and toward methods and models borrowed from statistics, fuzzy logic, and probability theory. there is a close connection between machine learning and compression. a system that predicts the posterior probabilities of a sequence given its entire history can be used for optimal data compression (by using arithmetic coding on the output distribution). conversely, an optimal compressor can be used for prediction (by finding the symbol that compresses best, given the previous history). this equivalence has been used as a justification for using data compression as a benchmark for \"general intelligence\". an alternative view can show compression algorithms implicitly map strings into implicit feature space vectors, and compression-based similarity measures compute similarity within these feature spaces. for each compressor c(.) we define an associated vector space ℵ, such that c(.) maps an input string x, corresponding to the vector norm ||~x||. an exhaustive examination of the feature spaces underlying all compression algorithms is precluded by space; instead, feature vectors chooses to examine three representative lossless compression methods, lzw, lz77, and ppm. according to aixi theory, a connection more directly explained in hutter prize, the best possible compression of x is the smallest possible software that generates x. for example, in that model, a zip file\\'s compressed size includes both the zip file and the unzipping software, since you can not unzip it without both, but there may be an even smaller combined form. examples of ai-powered audio/video compression software include nvidia maxine, aivc. examples of software that can perform ai-powered image compression include opencv, tensorflow, matlab\\'s image processing toolbox (ipt) and high-fidelity generative image compression. in unsupervised machine learning, k-means clustering can be utilized to compress data by grouping similar data points into clusters. this technique simplifies handling extensive datasets that lack predefined labels and finds widespread use in fields such as image compression. data compression aims to reduce the size of data files, enhancing storage efficiency and speeding up data transmission. k-means clustering, an unsupervised machine learning algorithm, is employed to partition a dataset into a specified number of clusters, k, each represented by the centroid of its points. this process condenses extensive datasets into a more compact set of representative points. particularly beneficial in image and signal processing, k-means clustering aids in data reduction by replacing groups of data points with their centroids, thereby preserving the core information of the original data while significantly decreasing the required storage space. machine learning and data mining often employ the same methods and overlap significantly, but while machine learning focuses on prediction, based on known properties learned from the training data, data mining focuses on the discovery of (previously) unknown properties in the data (this is the analysis step of knowledge discovery in databases). data mining uses many machine learning methods, but with different goals; on the other hand, machine learning also employs data mining methods as \"unsupervised learning\" or as a preprocessing step to improve learner accuracy. much of the confusion between these two research communities (which do often have separate conferences and separate journals, ecml pkdd being a major exception) comes from the basic assumptions they work with: in machine learning, performance is usually evaluated with respect to the ability to reproduce known knowledge, while in knowledge discovery and data mining (kdd) the key task is the discovery of previously unknown knowledge. evaluated with respect to known knowledge, an uninformed (unsupervised) method will easily be outperformed by other supervised methods, while in a typical kdd task, supervised methods cannot be used due to the unavailability of training data. machine learning also has intimate ties to optimization: many learning problems are formulated as minimization of some loss function on a training set of examples. loss functions express the discrepancy between the predictions of the model being trained and the actual problem instances (for example, in classification, one wants to assign a label to instances, and models are trained to correctly predict the preassigned labels of a set of examples). the difference between optimization and machine learning arises from the goal of generalization: while optimization algorithms can minimize the loss on a training set, machine learning is concerned with minimizing the loss on unseen samples. characterizing the generalization of various learning algorithms is an active topic of current research, especially for deep learning algorithms. machine learning and statistics are closely related fields in terms of methods, but distinct in their principal goal: statistics draws population inferences from a sample, while machine learning finds generalizable predictive patterns. according to michael i. jordan, the ideas of machine learning, from methodological principles to theoretical tools, have had a long pre-history in statistics. he also suggested the term data science as a placeholder to call the overall field. conventional statistical analyses require the a priori selection of a model most suitable for the study data set. in addition, only significant or theoretically relevant variables based on previous experience are included for analysis. in contrast, machine learning is not built on a pre-structured model; rather, the data shape the model by detecting underlying patterns. the more variables (input) used to train the model, the more accurate the ultimate model will be. leo breiman distinguished two statistical modeling paradigms: data model and algorithmic model, wherein \"algorithmic model\" means more or less the machine learning algorithms like random forest. some statisticians have adopted methods from machine learning, leading to a combined field that they call statistical learning. analytical and computational techniques derived from deep-rooted physics of disordered systems can be extended to large-scale problems, including machine learning, e.g., to analyze the weight space of deep neural networks. statistical physics is thus finding applications in the area of medical diagnostics. a core objective of a learner is to generalize from its experience. generalization in this context is the ability of a learning machine to perform accurately on new, unseen examples/tasks after having experienced a learning data set. the training examples come from some generally unknown probability distribution (considered representative of the space of occurrences) and the learner has to build a general model about this space that enables it to produce sufficiently accurate predictions in new cases. the computational analysis of machine learning algorithms and their performance is a branch of theoretical computer science known as computational learning theory via the probably approximately correct learning (pac) model. because training sets are finite and the future is uncertain, learning theory usually does not yield guarantees of the performance of algorithms. instead, probabilistic bounds on the performance are quite common. the bias–variance decomposition is one way to quantify generalization error. for the best performance in the context of generalization, the complexity of the hypothesis should match the complexity of the function underlying the data. if the hypothesis is less complex than the function, then the model has under fitted the data. if the complexity of the model is increased in response, then the training error decreases. but if the hypothesis is too complex, then the model is subject to overfitting and generalization will be poorer. in addition to performance bounds, learning theorists study the time complexity and feasibility of learning. in computational learning theory, a computation is considered feasible if it can be done in polynomial time. there are two kinds of time complexity results: positive results show that a certain class of functions can be learned in polynomial time. negative results show that certain classes cannot be learned in polynomial time. machine learning approaches are traditionally divided into three broad categories, which correspond to learning paradigms, depending on the nature of the \"signal\" or \"feedback\" available to the learning system: although each algorithm has advantages and limitations, no single algorithm works for all problems. supervised learning algorithms build a mathematical model of a set of data that contains both the inputs and the desired outputs. the data, known as training data, consists of a set of training examples. each training example has one or more inputs and the desired output, also known as a supervisory signal. in the mathematical model, each training example is represented by an array or vector, sometimes called a feature vector, and the training data is represented by a matrix. through iterative optimization of an objective function, supervised learning algorithms learn a function that can be used to predict the output associated with new inputs. an optimal function allows the algorithm to correctly determine the output for inputs that were not a part of the training data. an algorithm that improves the accuracy of its outputs or predictions over time is said to have learned to perform that task. types of supervised-learning algorithms include active learning, classification and regression. classification algorithms are used when the outputs are restricted to a limited set of values, and regression algorithms are used when the outputs may have any numerical value within a range. as an example, for a classification algorithm that filters emails, the input would be an incoming email, and the output would be the name of the folder in which to file the email. examples of regression would be predicting the height of a person, or the future temperature. similarity learning is an area of supervised machine learning closely related to regression and classification, but the goal is to learn from examples using a similarity function that measures how similar or related two objects are. it has applications in ranking, recommendation systems, visual identity tracking, face verification, and speaker verification. unsupervised learning algorithms find structures in data that has not been labeled, classified or categorized. instead of responding to feedback, unsupervised learning algorithms identify commonalities in the data and react based on the presence or absence of such commonalities in each new piece of data. central applications of unsupervised machine learning include clustering, dimensionality reduction, and density estimation. unsupervised learning algorithms also streamlined the process of identifying large indel based haplotypes of a gene of interest from pan-genome. cluster analysis is the assignment of a set of observations into subsets (called clusters) so that observations within the same cluster are similar according to one or more predesignated criteria, while observations drawn from different clusters are dissimilar. different clustering techniques make different assumptions on the structure of the data, often defined by some similarity metric and evaluated, for example, by internal compactness, or the similarity between members of the same cluster, and separation, the difference between clusters. other methods are based on estimated density and graph connectivity. a special type of unsupervised learning called, self-supervised learning involves training a model by generating the supervisory signal from the data itself. semi-supervised learning falls between unsupervised learning (without any labeled training data) and supervised learning (with completely labeled training data). some of the training examples are missing training labels, yet many machine-learning researchers have found that unlabeled data, when used in conjunction with a small amount of labeled data, can produce a considerable improvement in learning accuracy. in weakly supervised learning, the training labels are noisy, limited, or imprecise; however, these labels are often cheaper to obtain, resulting in larger effective training sets. reinforcement learning is an area of machine learning concerned with how software agents ought to take actions in an environment so as to maximize some notion of cumulative reward. due to its generality, the field is studied in many other disciplines, such as game theory, control theory, operations research, information theory, simulation-based optimization, multi-agent systems, swarm intelligence, statistics and genetic algorithms. in reinforcement learning, the environment is typically represented as a markov decision process (mdp). many reinforcements learning algorithms use dynamic programming techniques. reinforcement learning algorithms do not assume knowledge of an exact mathematical model of the mdp and are used when exact models are infeasible. reinforcement learning algorithms are used in autonomous vehicles or in learning to play a game against a human opponent. dimensionality reduction is a process of reducing the number of random variables under consideration by obtaining a set of principal variables. in other words, it is a process of reducing the dimension of the feature set, also called the \"number of features\". most of the dimensionality reduction techniques can be considered as either feature elimination or extraction. one of the popular methods of dimensionality reduction is principal component analysis (pca). pca involves changing higher-dimensional data (e.g., 3d) to a smaller space (e.g., 2d). the manifold hypothesis proposes that high-dimensional data sets lie along low-dimensional manifolds, and many dimensionality reduction techniques make this assumption, leading to the area of manifold learning and manifold regularization. other approaches have been developed which do not fit neatly into this three-fold categorization, and sometimes more than one is used by the same machine learning system. for example, topic modeling, meta-learning. self-learning, as a machine learning paradigm was introduced in 1982 along with a neural network capable of self-learning, named crossbar adaptive array (caa). it is learning with no external rewards and no external teacher advice. the caa self-learning algorithm computes, in a crossbar fashion, both decisions about actions and emotions (feelings) about consequence situations. the system is driven by the interaction between cognition and emotion. the self-learning algorithm updates a memory matrix w =||w(a,s)|| such that in each iteration executes the following machine learning routine: it is a system with only one input, situation, and only one output, action (or behavior) a. there is neither a separate reinforcement input nor an advice input from the environment. the backpropagated value (secondary reinforcement) is the emotion toward the consequence situation. the caa exists in two environments, one is the behavioral environment where it behaves, and the other is the genetic environment, wherefrom it initially and only once receives initial emotions about situations to be encountered in the behavioral environment. after receiving the genome (species) vector from the genetic environment, the caa learns a goal-seeking behavior, in an environment that contains both desirable and undesirable situations. several learning algorithms aim at discovering better representations of the inputs provided during training. classic examples include principal component analysis and cluster analysis. feature learning algorithms, also called representation learning algorithms, often attempt to preserve the information in their input but also transform it in a way that makes it useful, often as a pre-processing step before performing classification or predictions. this technique allows reconstruction of the inputs coming from the unknown data-generating distribution, while not being necessarily faithful to configurations that are implausible under that distribution. this replaces manual feature engineering, and allows a machine to both learn the features and use them to perform a specific task. feature learning can be either supervised or unsupervised. in supervised feature learning, features are learned using labeled input data. examples include artificial neural networks, multilayer perceptrons, and supervised dictionary learning. in unsupervised feature learning, features are learned with unlabeled input data. examples include dictionary learning, independent component analysis, autoencoders, matrix factorization and various forms of clustering. manifold learning algorithms attempt to do so under the constraint that the learned representation is low-dimensional. sparse coding algorithms attempt to do so under the constraint that the learned representation is sparse, meaning that the mathematical model has many zeros. multilinear subspace learning algorithms aim to learn low-dimensional representations directly from tensor representations for multidimensional data, without reshaping them into higher-dimensional vectors. deep learning algorithms discover multiple levels of representation, or a hierarchy of features, with higher-level, more abstract features defined in terms of (or generating) lower-level features. it has been argued that an intelligent machine is one that learns a representation that disentangles the underlying factors of variation that explain the observed data. feature learning is motivated by the fact that machine learning tasks such as classification often require input that is mathematically and computationally convenient to process. however, real-world data such as images, video, and sensory data has not yielded attempts to algorithmically define specific features. an alternative is to discover such features or representations through examination, without relying on explicit algorithms. sparse dictionary learning is a feature learning method where a training example is represented as a linear combination of basis functions and assumed to be a sparse matrix. the method is strongly np-hard and difficult to solve approximately. a popular heuristic method for sparse dictionary learning is the k-svd algorithm. sparse dictionary learning has been applied in several contexts. in classification, the problem is to determine the class to which a previously unseen training example belongs. for a dictionary where each class has already been built, a new training example is associated with the class that is best sparsely represented by the corresponding dictionary. sparse dictionary learning has also been applied in image de-noising. the key idea is that a clean image patch can be sparsely represented by an image dictionary, but the noise cannot. in data mining, anomaly detection, also known as outlier detection, is the identification of rare items, events or observations which raise suspicions by differing significantly from the majority of the data. typically, the anomalous items represent an issue such as bank fraud, a structural defect, medical problems or errors in a text. anomalies are referred to as outliers, novelties, noise, deviations and exceptions. in particular, in the context of abuse and network intrusion detection, the interesting objects are often not rare objects, but unexpected bursts of inactivity. this pattern does not adhere to the common statistical definition of an outlier as a rare object. many outlier detection methods (in particular, unsupervised algorithms) will fail on such data unless aggregated appropriately. instead, a cluster analysis algorithm may be able to detect the micro-clusters formed by these patterns. three broad categories of anomaly detection techniques exist. unsupervised anomaly detection techniques detect anomalies in an unlabeled test data set under the assumption that the majority of the instances in the data set are normal, by looking for instances that seem to fit the least to the remainder of the data set. supervised anomaly detection techniques require a data set that has been labeled as \"normal\" and \"abnormal\" and involves training a classifier (the key difference from many other statistical classification problems is the inherently unbalanced nature of outlier detection). semi-supervised anomaly detection techniques construct a model representing normal behavior from a given normal training data set and then test the likelihood of a test instance to be generated by the model. robot learning is inspired by a multitude of machine learning methods, starting from supervised learning, reinforcement learning, and finally meta-learning (e.g. maml). association rule learning is a rule-based machine learning method for discovering relationships between variables in large databases. it is intended to identify strong rules discovered in databases using some measure of \"interestingness\". rule-based machine learning is a general term for any machine learning method that identifies, learns, or evolves \"rules\" to store, manipulate or apply knowledge. the defining characteristic of a rule-based machine learning algorithm is the identification and utilization of a set of relational rules that collectively represent the knowledge captured by the system. this is in contrast to other machine learning algorithms that commonly identify a singular model that can be universally applied to any instance in order to make a prediction. rule-based machine learning approaches include learning classifier systems, association rule learning, and artificial immune systems. based on the concept of strong rules, rakesh agrawal, tomasz imieliński and arun swami introduced association rules for discovering regularities between products in large-scale transaction data recorded by point-of-sale (pos) systems in supermarkets. for example, the rule { o n i o n s , p o t a t o e s } ⇒ { b u r g e r } {\\\\displaystyle \\\\{\\\\mathrm {onions,potatoes} \\\\}\\\\rightarrow \\\\{\\\\mathrm {burger} \\\\}} found in the sales data of a supermarket would indicate that if a customer buys onions and potatoes together, they are likely to also buy hamburger meat. such information can be used as the basis for decisions about marketing activities such as promotional pricing or product placements. in addition to market basket analysis, association rules are employed today in application areas including web usage mining, intrusion detection, continuous production, and bioinformatics. in contrast with sequence mining, association rule learning typically does not consider the order of items either within a transaction or across transactions. learning classifier systems (lcs) are a family of rule-based machine learning algorithms that combine a discovery component, typically a genetic algorithm, with a learning component, performing either supervised learning, reinforcement learning, or unsupervised learning. they seek to identify a set of context-dependent rules that collectively store and apply knowledge in a piecewise manner in order to make predictions. inductive logic programming (ilp) is an approach to rule learning using logic programming as a uniform representation for input examples, background knowledge, and hypotheses. given an encoding of the known background knowledge and a set of examples represented as a logical database of facts, an ilp system will derive a hypothesized logic program that entails all positive and no negative examples. inductive programming is a related field that considers any kind of programming language for representing hypotheses (and not only logic programming), such as functional programs. inductive logic programming is particularly useful in bioinformatics and natural language processing. gordon plotkin and ehud shapiro laid the initial theoretical foundation for inductive machine learning in a logical setting. shapiro built their first implementation (model inference system) in 1981: a prolog program that inductively inferred logic programs from positive and negative examples. the term inductive here refers to philosophical induction, suggesting a theory to explain observed facts, rather than mathematical induction, proving a property for all members of a well-ordered set. a machine learning model is a type of mathematical model that, after being \"trained\" on a given dataset, can be used to make predictions or classifications on new data. during training, a learning algorithm iteratively adjusts the model\\'s internal parameters to minimize errors in its predictions. by extension, the term \"model\" can refer to several levels of specificity, from a general class of models and their associated learning algorithms to a fully trained model with all its internal parameters tuned. various types of models have been used and researched for machine learning systems, picking the best model for a task is called model selection. artificial neural networks (anns), or connectionist systems, are computing systems vaguely inspired by the biological neural networks that constitute animal brains. such systems \"learn\" to perform tasks by considering examples, generally without being programmed with any task-specific rules. an ann is a model based on a collection of connected units or nodes called \"artificial neurons\", which loosely model the neurons in a biological brain. each connection, like the synapses in a biological brain, can transmit information, a \"signal\", from one artificial neuron to another. an artificial neuron that receives a signal can process it and then signal additional artificial neurons connected to it. in common ann implementations, the signal at a connection between artificial neurons is a real number, and the output of each artificial neuron is computed by some non-linear function of the sum of its inputs. the connections between artificial neurons are called \"edges\". artificial neurons and edges typically have a weight that adjusts as learning proceeds. the weight increases or decreases the strength of the signal at a connection. artificial neurons may have a threshold such that the signal is only sent if the aggregate signal crosses that threshold. typically, artificial neurons are aggregated into layers. different layers may perform different kinds of transformations on their inputs. signals travel from the first layer (the input layer) to the last layer (the output layer), possibly after traversing the layers multiple times. the original goal of the ann approach was to solve problems in the same way that a human brain would. however, over time, attention moved to performing specific tasks, leading to deviations from biology. artificial neural networks have been used on a variety of tasks, including computer vision, speech recognition, machine translation, social network filtering, playing board and video games and medical diagnosis. deep learning consists of multiple hidden layers in an artificial neural network. this approach tries to model the way the human brain processes light and sound into vision and hearing. some successful applications of deep learning are computer vision and speech recognition. decision tree learning uses a decision tree as a predictive model to go from observations about an item (represented in the branches) to conclusions about the item\\'s target value (represented in the leaves). it is one of the predictive modeling approaches used in statistics, data mining, and machine learning. tree models where the target variable can take a discrete set of values are called classification trees; in these tree structures, leaves represent class labels, and branches represent conjunctions of features that lead to those class labels. decision trees where the target variable can take continuous values (typically real numbers) are called regression trees. in decision analysis, a decision tree can be used to visually and explicitly represent decisions and decision making. in data mining, a decision tree describes data, but the resulting classification tree can be an input for decision-making. support-vector machines (svms), also known as support-vector networks, are a set of related supervised learning methods used for classification and regression. given a set of training examples, each marked as belonging to one of two categories, an svm training algorithm builds a model that predicts whether a new example falls into one category. an svm training algorithm is a non-probabilistic, binary, linear classifier, although methods such as platt scaling exist to use svm in a probabilistic classification setting. in addition to performing linear classification, svms can efficiently perform a non-linear classification using what is called the kernel trick, implicitly mapping their inputs into high-dimensional feature spaces. regression analysis encompasses a large variety of statistical methods to estimate the relationship between input variables and their associated features. its most common form is linear regression, where a single line is drawn to best fit the given data according to a mathematical criterion such as ordinary least squares. the latter is often extended by regularization methods to mitigate overfitting and bias, as in ridge regression. when dealing with non-linear problems, go-to models include polynomial regression (for example, used for trendline fitting in microsoft excel ), logistic regression (often used in statistical classification) or even kernel regression, which introduces non-linearity by taking advantage of the kernel trick to implicitly map input variables to higher-dimensional space. a bayesian network, belief network, or directed acyclic graphical model is a probabilistic graphical model that represents a set of random variables and their conditional independence with a directed acyclic graph (dag). for example, a bayesian network could represent the probabilistic relationships between diseases and symptoms. given symptoms, the network can be used to compute the probabilities of the presence of various diseases. efficient algorithms exist that perform inference and learning. bayesian networks that model sequences of variables, like speech signals or protein sequences, are called dynamic bayesian networks. generalizations of bayesian networks that can represent and solve decision problems under uncertainty are called influence diagrams. a gaussian process is a stochastic process in which every finite collection of the random variables in the process has a multivariate normal distribution, and it relies on a pre-defined covariance function, or kernel, that models how pairs of points relate to each other depending on their locations. given a set of observed points, or input–output examples, the distribution of the (unobserved) output of a new point as function of its input data can be directly computed by looking like the observed points and the covariances between those points and the new, unobserved point. gaussian processes are popular surrogate models in bayesian optimization used to do hyperparameter optimization. a genetic algorithm (ga) is a search algorithm and heuristic technique that mimics the process of natural selection, using methods such as mutation and crossover to generate new genotypes in the hope of finding good solutions to a given problem. in machine learning, genetic algorithms were used in the 1980s and 1990s. conversely, machine learning techniques have been used to improve the performance of genetic and evolutionary algorithms. the theory of belief functions, also referred to as evidence theory or dempster–shafer theory, is a general framework for reasoning with uncertainty, with understood connections to other frameworks such as probability, possibility and imprecise probability theories. these theoretical frameworks can be thought of as a kind of learner and have some analogous properties of how evidence is combined (e.g., dempster\\'s rule of combination), just like how in a pmf-based bayesian approach[clarification needed] would combine probabilities. however, there are many caveats to these beliefs functions when compared to bayesian approaches in order to incorporate ignorance and uncertainty quantification. these belief function approaches that are implemented within the machine learning domain typically leverage a fusion approach of various ensemble methods to better handle the learner\\'s decision boundary, low samples, and ambiguous class issues that standard machine learning approach tend to have difficulty resolving. however, the computational complexity of these algorithms are dependent on the number of propositions (classes), and can lead to a much higher computation time when compared to other machine learning approaches. typically, machine learning models require a high quantity of reliable data to perform accurate predictions. when training a machine learning model, machine learning engineers need to target and collect a large and representative sample of data. data from the training set can be as varied as a corpus of text, a collection of images, sensor data, and data collected from individual users of a service. overfitting is something to watch out for when training a machine learning model. trained models derived from biased or non-evaluated data can result in skewed or undesired predictions. biased models may result in detrimental outcomes, thereby furthering the negative impacts on society or objectives. algorithmic bias is a potential result of data not being fully prepared for training. machine learning ethics is becoming a field of study and notably, becoming integrated within machine learning engineering teams. federated learning is an adapted form of distributed artificial intelligence to training machine learning models that decentralizes the training process, allowing for users\\' privacy to be maintained by not needing to send their data to a centralized server. this also increases efficiency by decentralizing the training process to many devices. for example, gboard uses federated machine learning to train search query prediction models on users\\' mobile phones without having to send individual searches back to google. there are many applications for machine learning, including: in 2006, the media-services provider netflix held the first \"netflix prize\" competition to find a program to better predict user preferences and improve the accuracy of its existing cinematch movie recommendation algorithm by at least 10%. a joint team made up of researchers from at&t labs-research in collaboration with the teams big chaos and pragmatic theory built an ensemble model to win the grand prize in 2009 for $1 million. shortly after the prize was awarded, netflix realized that viewers\\' ratings were not the best indicators of their viewing patterns (\"everything is a recommendation\") and they changed their recommendation engine accordingly. in 2010 the wall street journal wrote about the firm rebellion research and their use of machine learning to predict the financial crisis. in 2012, co-founder of sun microsystems, vinod khosla, predicted that 80% of medical doctors jobs would be lost in the next two decades to automated machine learning medical diagnostic software. in 2014, it was reported that a machine learning algorithm had been applied in the field of art history to study fine art paintings and that it may have revealed previously unrecognized influences among artists. in 2019 springer nature published the first research book created using machine learning. in 2020, machine learning technology was used to help make diagnoses and aid researchers in developing a cure for covid-19. machine learning was recently applied to predict the pro-environmental behavior of travelers. recently, machine learning technology was also applied to optimize smartphone\\'s performance and thermal behavior based on the user\\'s interaction with the phone. when applied correctly, machine learning algorithms (mlas) can utilize a wide range of company characteristics to predict stock returns without overfitting. by employing effective feature engineering and combining forecasts, mlas can generate results that far surpass those obtained from basic linear techniques like ols. recent advancements in machine learning have extended into the field of quantum chemistry, where novel algorithms now enable the prediction of solvent effects on chemical reactions, thereby offering new tools for chemists to tailor experimental conditions for optimal outcomes. machine learning is becoming a useful tool to investigate and predict evacuation decision making in large scale and small scale disasters. different solutions have been tested to predict if and when householders decide to evacuate during wildfires and hurricanes. other applications have been focusing on pre evacuation decisions in building fires. although machine learning has been transformative in some fields, machine-learning programs often fail to deliver expected results. reasons for this are numerous: lack of (suitable) data, lack of access to the data, data bias, privacy problems, badly chosen tasks and algorithms, wrong tools and people, lack of resources, and evaluation problems. the \"black box theory\" poses another yet significant challenge. black box refers to a situation where the algorithm or the process of producing an output is entirely opaque, meaning that even the coders of the algorithm cannot audit the pattern that the machine extracted out of the data. the house of lords select committee, which claimed that such an “intelligence system” that could have a “substantial impact on an individual’s life” would not be considered acceptable unless it provided “a full and satisfactory explanation for the decisions” it makes. in 2018, a self-driving car from uber failed to detect a pedestrian, who was killed after a collision. attempts to use machine learning in healthcare with the ibm watson system failed to deliver even after years of time and billions of dollars invested. microsoft\\'s bing chat chatbot has been reported to produce hostile and offensive response against its users. machine learning has been used as a strategy to update the evidence related to a systematic review and increased reviewer burden related to the growth of biomedical literature. while it has improved with training sets, it has not yet developed sufficiently to reduce the workload burden without limiting the necessary sensitivity for the findings research themselves. different machine learning approaches can suffer from different data biases. a machine learning system trained specifically on current customers may not be able to predict the needs of new customer groups that are not represented in the training data. when trained on human-made data, machine learning is likely to pick up the constitutional and unconscious biases already present in society. language models learned from data have been shown to contain human-like biases. in an experiment carried out by propublica, an investigative journalism organization, a machine learning algorithm\\'s insight into the recidivism rates among prisoners falsely flagged \"black defendants high risk twice as often as white defendants.\" in 2015, google photos would often tag black people as gorillas, and in 2018, this still was not well resolved, but google reportedly was still using the workaround to remove all gorillas from the training data and thus was not able to recognize real gorillas at all. similar issues with recognizing non-white people have been found in many other systems. in 2016, microsoft tested tay, a chatbot that learned from twitter, and it quickly picked up racist and sexist language. because of such challenges, the effective use of machine learning may take longer to be adopted in other domains. concern for fairness in machine learning, that is, reducing bias in machine learning and propelling its use for human good, is increasingly expressed by artificial intelligence scientists, including fei-fei li, who reminds engineers that \"[t]here\\'s nothing artificial about ai. it\\'s inspired by people, it\\'s created by people, and—most importantly—it impacts people. it is a powerful tool we are only just beginning to understand, and that is a profound responsibility.\" explainable ai (xai), or interpretable ai, or explainable machine learning (xml), is artificial intelligence (ai) in which humans can understand the decisions or predictions made by the ai. it contrasts with the \"black box\" concept in machine learning where even its designers cannot explain why an ai arrived at a specific decision. by refining the mental models of users of ai-powered systems and dismantling their misconceptions, xai promises to help users perform more effectively. xai may be an implementation of the social right to explanation. settling on a bad, overly complex theory gerrymandered to fit all the past training data is known as overfitting. many systems attempt to reduce overfitting by rewarding a theory in accordance with how well it fits the data but penalizing the theory in accordance with how complex the theory is. learners can also disappoint by \"learning the wrong lesson\". a toy example is that an image classifier trained only on pictures of brown horses and black cats might conclude that all brown patches are likely to be horses. a real-world example is that, unlike humans, current image classifiers often do not primarily make judgments from the spatial relationship between components of the picture, and they learn relationships between pixels that humans are oblivious to, but that still correlate with images of certain types of real objects. modifying these patterns on a legitimate image can result in \"adversarial\" images that the system misclassifies. adversarial vulnerabilities can also result in nonlinear systems, or from non-pattern perturbations. for some systems, it is possible to change the output by only changing a single adversarially chosen pixel. machine learning models are often vulnerable to manipulation and/or evasion via adversarial machine learning. researchers have demonstrated how backdoors can be placed undetectably into classifying (e.g., for categories \"spam\" and well-visible \"not spam\" of posts) machine learning models that are often developed and/or trained by third parties. parties can change the classification of any input, including in cases for which a type of data/software transparency is provided, possibly including white-box access. classification of machine learning models can be validated by accuracy estimation techniques like the holdout method, which splits the data in a training and test set (conventionally 2/3 training set and 1/3 test set designation) and evaluates the performance of the training model on the test set. in comparison, the k-fold-cross-validation method randomly partitions the data into k subsets and then k experiments are performed each respectively considering 1 subset for evaluation and the remaining k-1 subsets for training the model. in addition to the holdout and cross-validation methods, bootstrap, which samples n instances with replacement from the dataset, can be used to assess model accuracy. in addition to overall accuracy, investigators frequently report sensitivity and specificity meaning true positive rate (tpr) and true negative rate (tnr) respectively. similarly, investigators sometimes report the false positive rate (fpr) as well as the false negative rate (fnr). however, these rates are ratios that fail to reveal their numerators and denominators. the total operating characteristic (toc) is an effective method to express a model\\'s diagnostic ability. toc shows the numerators and denominators of the previously mentioned rates, thus toc provides more information than the commonly used receiver operating characteristic (roc) and roc\\'s associated area under the curve (auc). machine learning poses a host of ethical questions. systems that are trained on datasets collected with biases may exhibit these biases upon use (algorithmic bias), thus digitizing cultural prejudices. for example, in 1988, the uk\\'s commission for racial equality found that st. george\\'s medical school had been using a computer program trained from data of previous admissions staff and that this program had denied nearly 60 candidates who were found to either be women or have non-european sounding names. using job hiring data from a firm with racist hiring policies may lead to a machine learning system duplicating the bias by scoring job applicants by similarity to previous successful applicants. another example includes predictive policing company geolitica\\'s predictive algorithm that resulted in “disproportionately high levels of over-policing in low-income and minority communities” after being trained with historical crime data. while responsible collection of data and documentation of algorithmic rules used by a system is considered a critical part of machine learning, some researchers blame lack of participation and representation of minority population in the field of ai for machine learning\\'s vulnerability to biases. in fact, according to research carried out by the computing research association (cra) in 2021, “female faculty merely make up 16.1%” of all faculty members who focus on ai among several universities around the world. furthermore, among the group of “new u.s. resident ai phd graduates,” 45% identified as white, 22.4% as asian, 3.2% as hispanic, and 2.4% as african american, which further demonstrates a lack of diversity in the field of ai. ai can be well-equipped to make decisions in technical fields, which rely heavily on data and historical information. these decisions rely on objectivity and logical reasoning. because human languages contain biases, machines trained on language corpora will necessarily also learn these biases. other forms of ethical challenges, not related to personal biases, are seen in health care. there are concerns among health care professionals that these systems might not be designed in the public\\'s interest but as income-generating machines. this is especially true in the united states where there is a long-standing ethical dilemma of improving health care, but also increasing profits. for example, the algorithms could be designed to provide patients with unnecessary tests or medication in which the algorithm\\'s proprietary owners hold stakes. there is potential for machine learning in health care to provide professionals an additional tool to diagnose, medicate, and plan recovery paths for patients, but this requires these biases to be mitigated. since the 2010s, advances in both machine learning algorithms and computer hardware have led to more efficient methods for training deep neural networks (a particular narrow subdomain of machine learning) that contain many layers of nonlinear hidden units. by 2019, graphic processing units (gpus), often with ai-specific enhancements, had displaced cpus as the dominant method of training large-scale commercial cloud ai. openai estimated the hardware computing used in the largest deep learning projects from alexnet (2012) to alphazero (2017), and found a 300,000-fold increase in the amount of compute required, with a doubling-time trendline of 3.4 months. a physical neural network or neuromorphic computer is a type of artificial neural network in which an electrically adjustable material is used to emulate the function of a neural synapse. \"physical\" neural network is used to emphasize the reliance on physical hardware used to emulate neurons as opposed to software-based approaches. more generally the term is applicable to other artificial neural networks in which a memristor or other electrically adjustable resistance material is used to emulate a neural synapse. embedded machine learning is a sub-field of machine learning, where the machine learning model is run on embedded systems with limited computing resources such as wearable computers, edge devices and microcontrollers. running machine learning model in embedded devices removes the need for transferring and storing data on cloud servers for further processing, henceforth, reducing data breaches and privacy leaks happening because of transferring data, and also minimizes theft of intellectual properties, personal data and business secrets. embedded machine learning could be applied through several techniques including hardware acceleration, using approximate computing, optimization of machine learning models and many more. pruning, quantization, knowledge distillation, low-rank factorization, network architecture search (nas) & parameter sharing are few of the techniques used for optimization of machine learning models. software suites containing a variety of machine learning algorithms include the following:']"
            ]
          },
          "metadata": {},
          "execution_count": 20
        }
      ]
    },
    {
      "cell_type": "code",
      "source": [
        "print(len(texts))\n",
        "import os"
      ],
      "metadata": {
        "colab": {
          "base_uri": "https://localhost:8080/"
        },
        "id": "tE4IfSxnyPyb",
        "outputId": "35c0a0ac-c0b0-40fa-979d-c63bee35c1b2"
      },
      "execution_count": null,
      "outputs": [
        {
          "output_type": "stream",
          "name": "stdout",
          "text": [
            "1\n"
          ]
        }
      ]
    },
    {
      "cell_type": "code",
      "source": [
        "file_path = 'embeddings_directory/context_texts.txt'\n",
        "\n",
        "os.makedirs(os.path.dirname(file_path), exist_ok=True)\n",
        "\n",
        "with open(file_path, 'w') as file:\n",
        "    for text in texts:\n",
        "        file.write(text + '\\n')\n"
      ],
      "metadata": {
        "id": "ZMQtJwoOLJ-0"
      },
      "execution_count": null,
      "outputs": []
    },
    {
      "cell_type": "code",
      "source": [
        "import chromadb\n",
        "from chromadb.utils import embedding_functions\n",
        "import re\n",
        "import os\n",
        "\n",
        "def read_text_from_file(file_path):\n",
        "    with open(file_path, 'r') as file:\n",
        "        text = file.read()\n",
        "    return text\n",
        "\n",
        "def preprocess_text(text):\n",
        "    text = re.sub(r'\\s+', ' ', text)\n",
        "    return text.strip()\n",
        "\n",
        "def create_chunks(text, chunk_size=100, overlap=20):\n",
        "    chunks = []\n",
        "    start = 0\n",
        "    while start < len(text):\n",
        "        end = start + chunk_size\n",
        "        chunk = text[start:end]\n",
        "        chunks.append(chunk)\n",
        "        start += (chunk_size - overlap)\n",
        "    return chunks\n",
        "\n",
        "def create_rag(file_path, db_path=\"\", collection_name=\"text_rag\"):\n",
        "    raw_text = read_text_from_file(file_path)\n",
        "    processed_text = preprocess_text(raw_text)\n",
        "    chunks = create_chunks(processed_text)\n",
        "\n",
        "    if db_path:\n",
        "        client = chromadb.PersistentClient(path=db_path)\n",
        "    else:\n",
        "        client = chromadb.Client()\n",
        "\n",
        "    embedding_function = embedding_functions.DefaultEmbeddingFunction()\n",
        "\n",
        "    try:\n",
        "        collection = client.get_collection(name=collection_name)\n",
        "        print(f\"Using existing collection: {collection_name}\")\n",
        "    except ValueError:\n",
        "        collection = client.create_collection(name=collection_name, embedding_function=embedding_function)\n",
        "        print(f\"Created new collection: {collection_name}\")\n",
        "\n",
        "    # Add chunks to the collection\n",
        "    for i, chunk in enumerate(chunks):\n",
        "        collection.add(\n",
        "            documents=[chunk],\n",
        "            metadatas=[{\"source\": f\"chunk_{i}\"}],\n",
        "            ids=[f\"id_{i}\"]\n",
        "        )\n",
        "\n",
        "    print(f\"RAG system created with {len(chunks)} chunks.\")\n",
        "    return collection\n",
        "\n",
        "def query_rag(collection, query, n_results=1):\n",
        "    results = collection.query(\n",
        "        query_texts=[query],\n",
        "        n_results=n_results\n",
        "    )\n",
        "    return results\n",
        "\n",
        "# Example usage\n",
        "if __name__ == \"__main__\":\n",
        "    file_path = \"embeddings_directory/context_texts.txt\"  # Path to your text file\n",
        "    db_path = \"embeddings_directory/database\"  # Path for the database\n",
        "\n",
        "    # Create the database directory if it doesn't exist\n",
        "    os.makedirs(db_path, exist_ok=True)\n",
        "\n",
        "    collection = create_rag(file_path, db_path)\n",
        "\n",
        "    # Example query\n",
        "    query = \"What is machine learning?\"\n",
        "    results = query_rag(collection, query)\n",
        "\n",
        "    print(\"\\nQuery Results:\")\n",
        "    for i, (doc, metadata) in enumerate(zip(results['documents'][0], results['metadatas'][0])):\n",
        "        print(f\"\\nResult {i + 1}:\")\n",
        "        print(f\"Document: {doc}\")\n",
        "        print(f\"Metadata: {metadata}\")\n"
      ],
      "metadata": {
        "colab": {
          "base_uri": "https://localhost:8080/"
        },
        "id": "2o5bnuXHLOOl",
        "outputId": "31272c34-1c57-4efc-c110-829470798534"
      },
      "execution_count": null,
      "outputs": [
        {
          "output_type": "stream",
          "name": "stdout",
          "text": [
            "Created new collection: text_rag\n",
            "RAG system created with 691 chunks.\n",
            "\n",
            "Query Results:\n",
            "\n",
            "Result 1:\n",
            "Document: machine learning (ml) is a field of study in artificial intelligence concerned with the development \n",
            "Metadata: {'source': 'chunk_0'}\n"
          ]
        }
      ]
    },
    {
      "cell_type": "code",
      "source": [],
      "metadata": {
        "id": "iA0xWcrFL-YO"
      },
      "execution_count": null,
      "outputs": []
    }
  ],
  "metadata": {
    "accelerator": "GPU",
    "colab": {
      "gpuType": "T4",
      "provenance": [],
      "authorship_tag": "ABX9TyOo2ka+wLyFZIRlu8Uw0r8o",
      "include_colab_link": true
    },
    "kernelspec": {
      "display_name": "Python 3",
      "name": "python3"
    },
    "language_info": {
      "name": "python"
    }
  },
  "nbformat": 4,
  "nbformat_minor": 0
}